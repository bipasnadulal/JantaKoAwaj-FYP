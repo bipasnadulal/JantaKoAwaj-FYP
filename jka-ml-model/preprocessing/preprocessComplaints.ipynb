{
 "cells": [
  {
   "cell_type": "markdown",
   "id": "3e259b1d",
   "metadata": {},
   "source": [
    "### 1. Load the dataset"
   ]
  },
  {
   "cell_type": "code",
   "execution_count": 1,
   "id": "cee91674",
   "metadata": {},
   "outputs": [
    {
     "data": {
      "text/html": [
       "<div>\n",
       "<style scoped>\n",
       "    .dataframe tbody tr th:only-of-type {\n",
       "        vertical-align: middle;\n",
       "    }\n",
       "\n",
       "    .dataframe tbody tr th {\n",
       "        vertical-align: top;\n",
       "    }\n",
       "\n",
       "    .dataframe thead th {\n",
       "        text-align: right;\n",
       "    }\n",
       "</style>\n",
       "<table border=\"1\" class=\"dataframe\">\n",
       "  <thead>\n",
       "    <tr style=\"text-align: right;\">\n",
       "      <th></th>\n",
       "      <th>SNo</th>\n",
       "      <th>Brief Description of the grievance</th>\n",
       "      <th>Category</th>\n",
       "      <th>Label</th>\n",
       "    </tr>\n",
       "  </thead>\n",
       "  <tbody>\n",
       "    <tr>\n",
       "      <th>0</th>\n",
       "      <td>1</td>\n",
       "      <td>Mero ghar ko aagan ma dhulo dherai aauchha. Dh...</td>\n",
       "      <td>Environment</td>\n",
       "      <td>not_genuine</td>\n",
       "    </tr>\n",
       "    <tr>\n",
       "      <th>1</th>\n",
       "      <td>2</td>\n",
       "      <td>Mero galli ma hidda mero chhaya dherai lamo bh...</td>\n",
       "      <td>Public Infrastructure</td>\n",
       "      <td>not_genuine</td>\n",
       "    </tr>\n",
       "    <tr>\n",
       "      <th>2</th>\n",
       "      <td>3</td>\n",
       "      <td>वडा नं. १६ नवोदित स्कुल नजिकै द्याबु मार्गमा व...</td>\n",
       "      <td>नगर प्रहरी</td>\n",
       "      <td>genuine</td>\n",
       "    </tr>\n",
       "    <tr>\n",
       "      <th>3</th>\n",
       "      <td>4</td>\n",
       "      <td>नदीमा माछाहरू धेरै छन्। यिनीहरूले पानी फोहोर ग...</td>\n",
       "      <td>Environment</td>\n",
       "      <td>not_genuine</td>\n",
       "    </tr>\n",
       "    <tr>\n",
       "      <th>4</th>\n",
       "      <td>5</td>\n",
       "      <td>३१ वडा पञ्चकुमारी मन्दिर निरकाे खालि जग्गामा ...</td>\n",
       "      <td>नगर प्रहरी</td>\n",
       "      <td>genuine</td>\n",
       "    </tr>\n",
       "    <tr>\n",
       "      <th>5</th>\n",
       "      <td>6</td>\n",
       "      <td>I'm a student of nepal police school samakhusi...</td>\n",
       "      <td>शिक्षा</td>\n",
       "      <td>genuine</td>\n",
       "    </tr>\n",
       "    <tr>\n",
       "      <th>6</th>\n",
       "      <td>7</td>\n",
       "      <td>The school playground has grass. My daughter p...</td>\n",
       "      <td>Education</td>\n",
       "      <td>not_genuine</td>\n",
       "    </tr>\n",
       "    <tr>\n",
       "      <th>7</th>\n",
       "      <td>8</td>\n",
       "      <td>Mero pakhalu janawar le mero kapada khaidiyo. ...</td>\n",
       "      <td>Agriculture and Livestock</td>\n",
       "      <td>not_genuine</td>\n",
       "    </tr>\n",
       "    <tr>\n",
       "      <th>8</th>\n",
       "      <td>9</td>\n",
       "      <td>Aakash ma indreni niklenna. Aja indreni nikali...</td>\n",
       "      <td>Environment</td>\n",
       "      <td>not_genuine</td>\n",
       "    </tr>\n",
       "    <tr>\n",
       "      <th>9</th>\n",
       "      <td>10</td>\n",
       "      <td>मेरो बाख्राले अरुको खेतमा गएर घास खान्छ। उसलाई...</td>\n",
       "      <td>Agriculture and Livestock</td>\n",
       "      <td>not_genuine</td>\n",
       "    </tr>\n",
       "  </tbody>\n",
       "</table>\n",
       "</div>"
      ],
      "text/plain": [
       "   SNo                 Brief Description of the grievance  \\\n",
       "0    1  Mero ghar ko aagan ma dhulo dherai aauchha. Dh...   \n",
       "1    2  Mero galli ma hidda mero chhaya dherai lamo bh...   \n",
       "2    3  वडा नं. १६ नवोदित स्कुल नजिकै द्याबु मार्गमा व...   \n",
       "3    4  नदीमा माछाहरू धेरै छन्। यिनीहरूले पानी फोहोर ग...   \n",
       "4    5   ३१ वडा पञ्चकुमारी मन्दिर निरकाे खालि जग्गामा ...   \n",
       "5    6  I'm a student of nepal police school samakhusi...   \n",
       "6    7  The school playground has grass. My daughter p...   \n",
       "7    8  Mero pakhalu janawar le mero kapada khaidiyo. ...   \n",
       "8    9  Aakash ma indreni niklenna. Aja indreni nikali...   \n",
       "9   10  मेरो बाख्राले अरुको खेतमा गएर घास खान्छ। उसलाई...   \n",
       "\n",
       "                    Category        Label  \n",
       "0                Environment  not_genuine  \n",
       "1      Public Infrastructure  not_genuine  \n",
       "2                 नगर प्रहरी      genuine  \n",
       "3                Environment  not_genuine  \n",
       "4                 नगर प्रहरी      genuine  \n",
       "5                     शिक्षा      genuine  \n",
       "6                  Education  not_genuine  \n",
       "7  Agriculture and Livestock  not_genuine  \n",
       "8                Environment  not_genuine  \n",
       "9  Agriculture and Livestock  not_genuine  "
      ]
     },
     "execution_count": 1,
     "metadata": {},
     "output_type": "execute_result"
    }
   ],
   "source": [
    "import pandas as pd\n",
    "df = pd.read_csv(r'D:/JantakoAwaj-FYP/jka-ml-model/dataset/final_balanced_dataset.csv')\n",
    "# display the first 1000 rows of the dataframe to check the data\n",
    "df.head(10)"
   ]
  },
  {
   "cell_type": "markdown",
   "id": "80d6ee92",
   "metadata": {},
   "source": [
    "### 2. handling missing values using\n",
    " - isnull().sum() -> to see how many missing values are present in the dataset\n",
    " - dropna() -> to drop missing values "
   ]
  },
  {
   "cell_type": "code",
   "execution_count": 2,
   "id": "a7435ad8",
   "metadata": {},
   "outputs": [
    {
     "name": "stdout",
     "output_type": "stream",
     "text": [
      "Missing values in each column:\n",
      "SNo                                    0\n",
      "Brief Description of the grievance    25\n",
      "Category                               0\n",
      "Label                                  0\n",
      "dtype: int64\n",
      "Shape of the dataframe before dropping missing values (9899, 4)\n",
      " \n",
      "Dropping rows with missing values in 'Brief Description of the grievance' column\n",
      "SNo                                   0\n",
      "Brief Description of the grievance    0\n",
      "Category                              0\n",
      "Label                                 0\n",
      "dtype: int64\n",
      "Shape of the dataframe after dropping missing values (9874, 4)\n"
     ]
    }
   ],
   "source": [
    "# to see how many missing values\n",
    "print(\"Missing values in each column:\")\n",
    "print(df.isnull().sum())\n",
    "# there are 25 missing values in the dataset column ['Brief Description of the grievance']\n",
    "print('Shape of the dataframe before dropping missing values', df.shape)\n",
    "print(' ')\n",
    "# to drop missing values\n",
    "print(\"Dropping rows with missing values in 'Brief Description of the grievance' column\")\n",
    "df.dropna(subset=['Brief Description of the grievance'], inplace=True)\n",
    "print(df.isnull().sum())\n",
    "print('Shape of the dataframe after dropping missing values', df.shape)\n",
    "\n"
   ]
  },
  {
   "cell_type": "code",
   "execution_count": 3,
   "id": "14f9bf72",
   "metadata": {},
   "outputs": [
    {
     "name": "stdout",
     "output_type": "stream",
     "text": [
      "Data types:\n",
      "Brief Description of the grievance\n",
      "<class 'str'>    9874\n",
      "Name: count, dtype: int64\n",
      "\n",
      "Sample data:\n",
      "0    Mero ghar ko aagan ma dhulo dherai aauchha. Dh...\n",
      "1    Mero galli ma hidda mero chhaya dherai lamo bh...\n",
      "2    वडा नं. १६ नवोदित स्कुल नजिकै द्याबु मार्गमा व...\n",
      "3    नदीमा माछाहरू धेरै छन्। यिनीहरूले पानी फोहोर ग...\n",
      "4     ३१ वडा पञ्चकुमारी मन्दिर निरकाे खालि जग्गामा ...\n",
      "5    I'm a student of nepal police school samakhusi...\n",
      "6    The school playground has grass. My daughter p...\n",
      "7    Mero pakhalu janawar le mero kapada khaidiyo. ...\n",
      "8    Aakash ma indreni niklenna. Aja indreni nikali...\n",
      "9    मेरो बाख्राले अरुको खेतमा गएर घास खान्छ। उसलाई...\n",
      "Name: Brief Description of the grievance, dtype: object\n"
     ]
    }
   ],
   "source": [
    "print(\"Data types:\")\n",
    "print(df['Brief Description of the grievance'].apply(type).value_counts())\n",
    "print(\"\\nSample data:\")\n",
    "print(df['Brief Description of the grievance'].head(10))"
   ]
  },
  {
   "cell_type": "markdown",
   "id": "d46690c9",
   "metadata": {},
   "source": [
    "### 3. lowercasing the texts"
   ]
  },
  {
   "cell_type": "code",
   "execution_count": 4,
   "id": "b5146859",
   "metadata": {},
   "outputs": [
    {
     "name": "stdout",
     "output_type": "stream",
     "text": [
      "                     Brief Description of the grievance  \\\n",
      "0     Mero ghar ko aagan ma dhulo dherai aauchha. Dh...   \n",
      "1     Mero galli ma hidda mero chhaya dherai lamo bh...   \n",
      "2     वडा नं. १६ नवोदित स्कुल नजिकै द्याबु मार्गमा व...   \n",
      "3     नदीमा माछाहरू धेरै छन्। यिनीहरूले पानी फोहोर ग...   \n",
      "4      ३१ वडा पञ्चकुमारी मन्दिर निरकाे खालि जग्गामा ...   \n",
      "...                                                 ...   \n",
      "3007  प्रज्ञा प्रतिष्ठान को पुर्व पट्टि जथाभावि पार्...   \n",
      "3008  मेरो बारीको मुलाले बोल्दैन। यसलाई बोल्न सिकाउन...   \n",
      "3009  I am a resident of Balaju, Ganga hall and kind...   \n",
      "3010  बानेश्वर चोकमा रहेको माहविर स्विटले बासी कुइएक...   \n",
      "3011     ढलको ढकनी धेरै भारी छ। यसलाई हलुका बनाउनुपर्छ।   \n",
      "\n",
      "                                           cleaned_text  \n",
      "0     mero ghar ko aagan ma dhulo dherai aauchha. dh...  \n",
      "1     mero galli ma hidda mero chhaya dherai lamo bh...  \n",
      "2     वडा नं. १६ नवोदित स्कुल नजिकै द्याबु मार्गमा व...  \n",
      "3     नदीमा माछाहरू धेरै छन्। यिनीहरूले पानी फोहोर ग...  \n",
      "4      ३१ वडा पञ्चकुमारी मन्दिर निरकाे खालि जग्गामा ...  \n",
      "...                                                 ...  \n",
      "3007  प्रज्ञा प्रतिष्ठान को पुर्व पट्टि जथाभावि पार्...  \n",
      "3008  मेरो बारीको मुलाले बोल्दैन। यसलाई बोल्न सिकाउन...  \n",
      "3009  i am a resident of balaju, ganga hall and kind...  \n",
      "3010  बानेश्वर चोकमा रहेको माहविर स्विटले बासी कुइएक...  \n",
      "3011     ढलको ढकनी धेरै भारी छ। यसलाई हलुका बनाउनुपर्छ।  \n",
      "\n",
      "[3000 rows x 2 columns]\n"
     ]
    }
   ],
   "source": [
    "# astype() method returns a new DataFrame where the data types has been changed to the specified type.\n",
    "df['cleaned_text'] = df['Brief Description of the grievance'].astype(str).str.lower() # .str.lower() is usedto lowercase strings in a column in Pandas dataframe\n",
    "\n",
    "print(df[['Brief Description of the grievance', 'cleaned_text']].head(3000))"
   ]
  },
  {
   "cell_type": "markdown",
   "id": "29e28579",
   "metadata": {},
   "source": [
    "### 4. using regEx to further clean"
   ]
  },
  {
   "cell_type": "code",
   "execution_count": null,
   "id": "bf36652a",
   "metadata": {},
   "outputs": [
    {
     "name": "stdout",
     "output_type": "stream",
     "text": [
      "                     Brief Description of the grievance  \\\n",
      "0     Mero ghar ko aagan ma dhulo dherai aauchha. Dh...   \n",
      "1     Mero galli ma hidda mero chhaya dherai lamo bh...   \n",
      "2     वडा नं. १६ नवोदित स्कुल नजिकै द्याबु मार्गमा व...   \n",
      "3     नदीमा माछाहरू धेरै छन्। यिनीहरूले पानी फोहोर ग...   \n",
      "4      ३१ वडा पञ्चकुमारी मन्दिर निरकाे खालि जग्गामा ...   \n",
      "...                                                 ...   \n",
      "3007  प्रज्ञा प्रतिष्ठान को पुर्व पट्टि जथाभावि पार्...   \n",
      "3008  मेरो बारीको मुलाले बोल्दैन। यसलाई बोल्न सिकाउन...   \n",
      "3009  I am a resident of Balaju, Ganga hall and kind...   \n",
      "3010  बानेश्वर चोकमा रहेको माहविर स्विटले बासी कुइएक...   \n",
      "3011     ढलको ढकनी धेरै भारी छ। यसलाई हलुका बनाउनुपर्छ।   \n",
      "\n",
      "                                           cleaned_text  \n",
      "0     mero ghar ko aagan ma dhulo dherai aauchha. dh...  \n",
      "1     mero galli ma hidda mero chhaya dherai lamo bh...  \n",
      "2     वडा नं. १६ नवोदित स्कुल नजिकै द्याबु मार्गमा व...  \n",
      "3     नदीमा माछाहरू धेरै छन्। यिनीहरूले पानी फोहोर ग...  \n",
      "4     ३१ वडा पञ्चकुमारी मन्दिर निरकाे खालि जग्गामा ल...  \n",
      "...                                                 ...  \n",
      "3007  प्रज्ञा प्रतिष्ठान को पुर्व पट्टि जथाभावि पार्...  \n",
      "3008  मेरो बारीको मुलाले बोल्दैन। यसलाई बोल्न सिकाउन...  \n",
      "3009  i am a resident of balaju, ganga hall and kind...  \n",
      "3010  बानेश्वर चोकमा रहेको माहविर स्विटले बासी कुइएक...  \n",
      "3011     ढलको ढकनी धेरै भारी छ। यसलाई हलुका बनाउनुपर्छ।  \n",
      "\n",
      "[3000 rows x 2 columns]\n"
     ]
    }
   ],
   "source": [
    "import re\n",
    "\n",
    "def clean_text(text):\n",
    "    # Remove basic punctuation (keep Nepali/Unicode letters)\n",
    "    text = re.sub(r'[!\"#$%&\\'()*+,-./:;<=>?@[\\\\]^_`{|}~]', '', text)\n",
    "    # Remove only English digits, preserve Nepali numerals\n",
    "    text = re.sub(r'[0-9]+', '', text)\n",
    "    # Remove HTML tags\n",
    "    text = re.sub(r'<.*?>', '', text)\n",
    "    # Remove emojis\n",
    "    emoji_pattern = re.compile(\n",
    "        \"[\"\n",
    "        u\"\\U0001F600-\\U0001F64F\" # emoticons (Matches Unicode characters from U+1F600 to U+1F64F, which include smiley faces, winking faces, and other emoticon-like characters)\n",
    "        u\"\\U0001F300-\\U0001F5FF\" # symbols & pictographs (Matches characters from U+1F300 to U+1F5FF, including weather symbols, food, animals, and other pictographs)\n",
    "        u\"\\U0001F680-\\U0001F6FF\" # transport & map (Matches characters from U+1F680 to U+1F6FF, covering transport-related symbols like cars, planes, and map symbols)\n",
    "        u\"\\U0001F1E0-\\U0001F1FF\" # flags (iOS) (Matches regional indicator symbols from U+1F1E0 to U+1F1FF, which are used to represent country flags)\n",
    "        \"]+\", flags=re.UNICODE)\n",
    "    text = emoji_pattern.sub(r'', text)\n",
    "    # Remove URLs\n",
    "    text = re.sub(r'http\\S+|www\\S+|https\\S+', '', text, flags=re.MULTILINE)\n",
    "    # Remove multiple spaces\n",
    "    text = re.sub(r'\\s+', ' ', text).strip()\n",
    "    return text\n",
    "# Apply the cleaning function to the 'cleaned_text' column\n",
    "df['cleaned_text'] = df['cleaned_text'].apply(clean_text)\n",
    "print(df[['Brief Description of the grievance', 'cleaned_text']].head(3000))\n"
   ]
  },
  {
   "cell_type": "code",
   "execution_count": 6,
   "id": "dace572c",
   "metadata": {},
   "outputs": [
    {
     "name": "stdout",
     "output_type": "stream",
     "text": [
      "Original: Mero ghar ko aagan ma dhulo dherai aauchha. Dhulo lai rokna paryo.\n",
      "Cleaned: Mero ghar ko aagan ma dhulo dherai aauchha. Dhulo lai rokna paryo.\n",
      "M --> LATIN CAPITAL LETTER M (Lu)\n",
      "e --> LATIN SMALL LETTER E (Ll)\n",
      "r --> LATIN SMALL LETTER R (Ll)\n",
      "o --> LATIN SMALL LETTER O (Ll)\n",
      "  --> SPACE (Zs)\n",
      "g --> LATIN SMALL LETTER G (Ll)\n",
      "h --> LATIN SMALL LETTER H (Ll)\n",
      "a --> LATIN SMALL LETTER A (Ll)\n",
      "r --> LATIN SMALL LETTER R (Ll)\n",
      "  --> SPACE (Zs)\n",
      "k --> LATIN SMALL LETTER K (Ll)\n",
      "o --> LATIN SMALL LETTER O (Ll)\n",
      "  --> SPACE (Zs)\n",
      "a --> LATIN SMALL LETTER A (Ll)\n",
      "a --> LATIN SMALL LETTER A (Ll)\n",
      "g --> LATIN SMALL LETTER G (Ll)\n",
      "a --> LATIN SMALL LETTER A (Ll)\n",
      "n --> LATIN SMALL LETTER N (Ll)\n",
      "  --> SPACE (Zs)\n",
      "m --> LATIN SMALL LETTER M (Ll)\n",
      "a --> LATIN SMALL LETTER A (Ll)\n",
      "  --> SPACE (Zs)\n",
      "d --> LATIN SMALL LETTER D (Ll)\n",
      "h --> LATIN SMALL LETTER H (Ll)\n",
      "u --> LATIN SMALL LETTER U (Ll)\n",
      "l --> LATIN SMALL LETTER L (Ll)\n",
      "o --> LATIN SMALL LETTER O (Ll)\n",
      "  --> SPACE (Zs)\n",
      "d --> LATIN SMALL LETTER D (Ll)\n",
      "h --> LATIN SMALL LETTER H (Ll)\n",
      "e --> LATIN SMALL LETTER E (Ll)\n",
      "r --> LATIN SMALL LETTER R (Ll)\n",
      "a --> LATIN SMALL LETTER A (Ll)\n",
      "i --> LATIN SMALL LETTER I (Ll)\n",
      "  --> SPACE (Zs)\n",
      "a --> LATIN SMALL LETTER A (Ll)\n",
      "a --> LATIN SMALL LETTER A (Ll)\n",
      "u --> LATIN SMALL LETTER U (Ll)\n",
      "c --> LATIN SMALL LETTER C (Ll)\n",
      "h --> LATIN SMALL LETTER H (Ll)\n",
      "h --> LATIN SMALL LETTER H (Ll)\n",
      "a --> LATIN SMALL LETTER A (Ll)\n",
      ". --> FULL STOP (Po)\n",
      "  --> SPACE (Zs)\n",
      "D --> LATIN CAPITAL LETTER D (Lu)\n",
      "h --> LATIN SMALL LETTER H (Ll)\n",
      "u --> LATIN SMALL LETTER U (Ll)\n",
      "l --> LATIN SMALL LETTER L (Ll)\n",
      "o --> LATIN SMALL LETTER O (Ll)\n",
      "  --> SPACE (Zs)\n",
      "l --> LATIN SMALL LETTER L (Ll)\n",
      "a --> LATIN SMALL LETTER A (Ll)\n",
      "i --> LATIN SMALL LETTER I (Ll)\n",
      "  --> SPACE (Zs)\n",
      "r --> LATIN SMALL LETTER R (Ll)\n",
      "o --> LATIN SMALL LETTER O (Ll)\n",
      "k --> LATIN SMALL LETTER K (Ll)\n",
      "n --> LATIN SMALL LETTER N (Ll)\n",
      "a --> LATIN SMALL LETTER A (Ll)\n",
      "  --> SPACE (Zs)\n",
      "p --> LATIN SMALL LETTER P (Ll)\n",
      "a --> LATIN SMALL LETTER A (Ll)\n",
      "r --> LATIN SMALL LETTER R (Ll)\n",
      "y --> LATIN SMALL LETTER Y (Ll)\n",
      "o --> LATIN SMALL LETTER O (Ll)\n",
      ". --> FULL STOP (Po)\n"
     ]
    }
   ],
   "source": [
    "#checking whether the cleaning function works as expected and not cleaning the  Nepali characters which are useful\n",
    "# not needed for the code to run, just used for debugging\n",
    "import unicodedata\n",
    "\n",
    "sample = df['Brief Description of the grievance'].iloc[0]\n",
    "print(\"Original:\", sample)\n",
    "print(\"Cleaned:\", clean_text(sample))\n",
    "\n",
    "for char in sample:\n",
    "    print(f\"{char} --> {unicodedata.name(char, 'UNKNOWN')} ({unicodedata.category(char)})\")"
   ]
  },
  {
   "cell_type": "code",
   "execution_count": 7,
   "id": "3bfa137c",
   "metadata": {},
   "outputs": [
    {
     "name": "stdout",
     "output_type": "stream",
     "text": [
      "0\n"
     ]
    }
   ],
   "source": [
    "print(df['cleaned_text'].isnull().sum())"
   ]
  },
  {
   "cell_type": "markdown",
   "id": "bed560a8",
   "metadata": {},
   "source": [
    "### 5. tokenization using word_tokenize from nltk"
   ]
  },
  {
   "cell_type": "code",
   "execution_count": 8,
   "id": "6320bec3",
   "metadata": {},
   "outputs": [
    {
     "name": "stderr",
     "output_type": "stream",
     "text": [
      "[nltk_data] Downloading package punkt to\n",
      "[nltk_data]     C:\\Users\\ASUS\\AppData\\Roaming\\nltk_data...\n",
      "[nltk_data]   Package punkt is already up-to-date!\n",
      "[nltk_data] Downloading package punkt_tab to\n",
      "[nltk_data]     C:\\Users\\ASUS\\AppData\\Roaming\\nltk_data...\n",
      "[nltk_data]   Package punkt_tab is already up-to-date!\n"
     ]
    },
    {
     "data": {
      "text/plain": [
       "True"
      ]
     },
     "execution_count": 8,
     "metadata": {},
     "output_type": "execute_result"
    }
   ],
   "source": [
    "import nltk\n",
    "from nltk.tokenize import word_tokenize\n",
    "nltk.download('punkt') # nltk.download('punkt') #punkt is a pretrained tokenizer model that NLTK uses for sentence and word tokenization.\n",
    "#It knows where to split text into words and sentences even when punctuation or abbreviations are present. It's not a typical algorithim but a resource file that works well with word_tokenize.\n",
    "nltk.download('punkt_tab') #word_tokenize (and sent_tokenize) rely on the 'punkt' resource, but recent versions of NLTK (since v3.8.1, late 2023) split language-specific data into separate files, including punkt_tab.\n"
   ]
  },
  {
   "cell_type": "code",
   "execution_count": 9,
   "id": "9db5ed6a",
   "metadata": {},
   "outputs": [
    {
     "name": "stdout",
     "output_type": "stream",
     "text": [
      "NLTK data paths:\n",
      "['C:\\\\Users\\\\ASUS/nltk_data', 'd:\\\\jka-ml\\\\nltk_data', 'd:\\\\jka-ml\\\\share\\\\nltk_data', 'd:\\\\jka-ml\\\\lib\\\\nltk_data', 'C:\\\\Users\\\\ASUS\\\\AppData\\\\Roaming\\\\nltk_data', 'C:\\\\nltk_data', 'D:\\\\nltk_data', 'E:\\\\nltk_data']\n",
      "Punkt found!\n"
     ]
    }
   ],
   "source": [
    "#checking the paths where NLTK looks for its data files (not needed for the code to run, just used for debugging)\n",
    "import nltk\n",
    "print(\"NLTK data paths:\")\n",
    "print(nltk.data.path)\n",
    "\n",
    "# Test if punkt is accessible\n",
    "try:\n",
    "    nltk.data.find('tokenizers/punkt')\n",
    "    print(\"Punkt found!\")\n",
    "except LookupError:\n",
    "    print(\"Punkt not found in NLTK data paths.\")"
   ]
  },
  {
   "cell_type": "code",
   "execution_count": 10,
   "id": "33251433",
   "metadata": {},
   "outputs": [
    {
     "name": "stdout",
     "output_type": "stream",
     "text": [
      "                                           cleaned_text  \\\n",
      "0     mero ghar ko aagan ma dhulo dherai aauchha. dh...   \n",
      "1     mero galli ma hidda mero chhaya dherai lamo bh...   \n",
      "2     वडा नं. १६ नवोदित स्कुल नजिकै द्याबु मार्गमा व...   \n",
      "3     नदीमा माछाहरू धेरै छन्। यिनीहरूले पानी फोहोर ग...   \n",
      "4     ३१ वडा पञ्चकुमारी मन्दिर निरकाे खालि जग्गामा ल...   \n",
      "...                                                 ...   \n",
      "3007  प्रज्ञा प्रतिष्ठान को पुर्व पट्टि जथाभावि पार्...   \n",
      "3008  मेरो बारीको मुलाले बोल्दैन। यसलाई बोल्न सिकाउन...   \n",
      "3009  i am a resident of balaju, ganga hall and kind...   \n",
      "3010  बानेश्वर चोकमा रहेको माहविर स्विटले बासी कुइएक...   \n",
      "3011     ढलको ढकनी धेरै भारी छ। यसलाई हलुका बनाउनुपर्छ।   \n",
      "\n",
      "                                         tokenized_text  \n",
      "0     [mero, ghar, ko, aagan, ma, dhulo, dherai, aau...  \n",
      "1     [mero, galli, ma, hidda, mero, chhaya, dherai,...  \n",
      "2     [वडा, नं, ., १६, नवोदित, स्कुल, नजिकै, द्याबु,...  \n",
      "3     [नदीमा, माछाहरू, धेरै, छन्।, यिनीहरूले, पानी, ...  \n",
      "4     [३१, वडा, पञ्चकुमारी, मन्दिर, निरकाे, खालि, जग...  \n",
      "...                                                 ...  \n",
      "3007  [प्रज्ञा, प्रतिष्ठान, को, पुर्व, पट्टि, जथाभाव...  \n",
      "3008  [मेरो, बारीको, मुलाले, बोल्दैन।, यसलाई, बोल्न,...  \n",
      "3009  [i, am, a, resident, of, balaju, ,, ganga, hal...  \n",
      "3010  [बानेश्वर, चोकमा, रहेको, माहविर, स्विटले, बासी...  \n",
      "3011  [ढलको, ढकनी, धेरै, भारी, छ।, यसलाई, हलुका, बना...  \n",
      "\n",
      "[3000 rows x 2 columns]\n"
     ]
    }
   ],
   "source": [
    "def tokenize_text(text):\n",
    "    return word_tokenize(text)\n",
    "df['tokenized_text'] = df['cleaned_text'].apply(tokenize_text)\n",
    "\n",
    "print(df[['cleaned_text', 'tokenized_text']].head(3000))"
   ]
  },
  {
   "cell_type": "markdown",
   "id": "9f084f07",
   "metadata": {},
   "source": [
    "### 6. stopwords removal using nltk stopwords corpus and custom stop words for pure Nepali and romanized Nepali"
   ]
  },
  {
   "cell_type": "code",
   "execution_count": 11,
   "id": "894bde98",
   "metadata": {},
   "outputs": [
    {
     "name": "stderr",
     "output_type": "stream",
     "text": [
      "[nltk_data] Downloading package stopwords to\n",
      "[nltk_data]     C:\\Users\\ASUS\\AppData\\Roaming\\nltk_data...\n",
      "[nltk_data]   Package stopwords is already up-to-date!\n"
     ]
    },
    {
     "data": {
      "text/plain": [
       "True"
      ]
     },
     "execution_count": 11,
     "metadata": {},
     "output_type": "execute_result"
    }
   ],
   "source": [
    "from nltk.corpus import stopwords\n",
    "nltk.download('stopwords')"
   ]
  },
  {
   "cell_type": "code",
   "execution_count": 12,
   "id": "7925d6ae",
   "metadata": {},
   "outputs": [],
   "source": [
    "# setting stopwords for English, Nepali and Romanized Nepali\n",
    "\n",
    "#english stopwords from nltk\n",
    "english_stopwords = set(stopwords.words('english'))\n",
    "\n",
    "#nepali stopwords defining\n",
    "nepali_stopwords=set([\n",
    "    'अझै', 'अधिक', 'अन्य', 'अन्यत्र', 'अन्यथा', 'अब', 'अरु', 'अरुलाई', 'अर्को', 'अर्थात', \n",
    "    'अर्थात्', 'अलग', 'आए', 'आजको', 'आत्म', 'आदि', 'आफू', 'आफूलाई', 'आफै', 'आफैलाई', \n",
    "    'आफैले', 'आफ्नै', 'आफ्नो', 'आयो', 'उनको', 'उनले', 'उनि', 'उनी', 'उनीहरु', 'उप', \n",
    "    'उसलाई', 'उस्तै', 'उहाँ', 'उहालाई', 'ऊ', 'एउटै', 'एक', 'एकदम', 'ओठ', 'औं', \n",
    "    'कतै', 'कसरी', 'कसै', 'कसैले', 'कस्तो', 'कहाँ', 'कहाँबाट', 'कहिले', 'कहिलेकाहीं', 'का', \n",
    "    'कि', 'किन', 'किनभने', 'कुनै', 'कुरा', 'कृपया', 'के', 'केवल', 'केहि', 'केही', \n",
    "    'को', 'कोही', 'गए', 'गयौ', 'गर', 'गरि', 'गरी', 'गरे', 'गरेका', 'गरेको', \n",
    "    'गरेर', 'गरौं', 'गर्छ', 'गर्छु', 'गर्दछ', 'गर्दै', 'गर्न', 'गर्नु', 'गर्नुपर्छ', 'गर्ने', \n",
    "    'गर्नेछन्', 'गर्नेछौ', 'गैर', 'चार', 'चाले', 'चाहनुहुन्छ', 'चाहन्छु', 'चाहन्छौ', 'चाहन्छौं', 'चाहन्थे', \n",
    "    'चाहिए', 'छ', 'छन्', 'छु', 'छू', 'छैन', 'छौं', 'जब', 'जबकि', 'जसको', \n",
    "    'जसबाट', 'जसमा', 'जसलाई', 'जसले', 'जस्तै', 'जस्तो', 'जहाँ', 'जान', 'जाहिर', 'जुन', \n",
    "    'जे', 'जो', 'ठीक', 'त', 'तत्काल', 'तथा', 'तदनुसार', 'तपाई', 'तपाईं', 'तपाईको', \n",
    "    'तर', 'तल', 'तापनी', 'तिनिहरुलाई', 'तिनी', 'तिनीहरुको', 'तिनीहरू', 'तिनीहरूको', 'तिमि', 'तिमी', \n",
    "    'तिमीसँग', 'तिम्रो', 'तिर', 'ती', 'तीन', 'तुरुन्तै', 'तेस्कारण', 'तेस्रो', 'त्यसपछि', 'त्यहाँ', \n",
    "    'त्यो', 'त्सपछि', 'त्सैले', 'थप', 'थिए', 'थिएन', 'थिएनन्', 'थियो', 'दिए', 'दिनुभएको', \n",
    "    'दिनुहुन्छ', 'दुई', 'दुबै', 'देखि', 'देखिन्छ', 'देखियो', 'देखे', 'देखेको', 'देखेर', 'दोस्रो', \n",
    "    'द्वारा', 'धेरै', 'न', 'नगर्नुहोस्', 'नजिकै', 'नत्र', 'नयाँ', 'नि', 'निम्ति', 'निम्न', \n",
    "    'नै', 'नौ', 'पक्का', 'पक्कै', 'पछि', 'पछिल्लो', 'पटक', 'पनि', 'पर्छ', 'पर्थ्यो', \n",
    "    'पर्याप्त', 'पहिले', 'पहिलो', 'पहिल्यै', 'पाँच', 'पाँचौं', 'पूर्व', 'प्रति', 'प्रतेक', 'प्रत्येक', \n",
    "    'प्लस', 'फेरि', 'फेरी', 'बने', 'बन्द', 'बरु', 'बाट', 'बारे', 'बारेमा', 'बाहिर', \n",
    "    'बाहेक', 'बिरुद्ध', 'बिशेष', 'बीच', 'बीचमा', 'भए', 'भएको', 'भन', 'भने', 'भन्', \n",
    "    'भन्छन्', 'भन्छु', 'भन्दा', 'भन्नुभयो', 'भन्ने', 'भर', 'भित्र', 'भित्री', 'म', 'मँ', \n",
    "    'मलाई', 'मा', 'मात्र', 'माथि', 'मार्फत', 'मुख्य', 'मेरो', 'मैले', 'यति', 'यथोचित', \n",
    "    'यदि', 'यद्यपि', 'यस', 'यसको', 'यसपछि', 'यसबाहेक', 'यसरी', 'यसैले', 'यसो', 'यस्तो', \n",
    "    'यहाँ', 'यहाँसम्म', 'या', 'यी', 'यो', 'र', 'रही', 'रहेका', 'रहेको', 'राखे', \n",
    "    'राख्छ', 'राम्रो', 'रूप', 'लगभग', 'लाई', 'लागि', 'ले', 'वरीपरी', 'वा', 'वास्तवमा', \n",
    "    'विरुद्ध', 'शायद', 'सकदिन', 'सकिएन', 'सक्छ', 'सक्दैन', 'संग', 'संगै', 'सट्टा', 'सधै', \n",
    "    'सबै', 'सबैलाई', 'समय', 'समयमा', 'सम्भव', 'सम्म', 'सही', 'साँच्चै', 'सात', 'साथ', \n",
    "    'साथै', 'सायद', 'सारा', 'सो', 'सोही', 'स्पष्ट', 'हरे', 'हरेक', 'हामी', 'हामीसँग', \n",
    "    'हाम्रो', 'हुँ', 'हुँदैन', 'हुन', 'हुनु', 'हुनुहुन्छ', 'हुने', 'हुनेछ', 'हुनेछु', 'हुन्', \n",
    "    'हुन्छ', 'हुन्थे', 'हो', 'होइन', 'हौं'\n",
    "])\n",
    "\n",
    "#romanized Nepali stopwords defining\n",
    "romanized_nepali_stopwords = set([\n",
    "    'aajhai', 'adhik', 'anya', 'anyatra', 'anyathaa', 'aba', 'aru', 'arulai', 'arko', 'arthat',\n",
    "    'arthat', 'alag', 'aae', 'aajako', 'aatma', 'aadi', 'aafu', 'aafulai', 'aafai', 'aafailai',\n",
    "    'aafaille', 'aafnai', 'aafno', 'aayo', 'unko', 'unle', 'uni', 'unii', 'uniiharu', 'upa',\n",
    "    'uslai', 'ustai', 'uhaa', 'uhaalai', 'uu', 'ekutai', 'ek', 'ekdam', 'oth', 'aun',\n",
    "    'katai', 'kasari', 'kasai', 'kasaile', 'kasto', 'kahaa', 'kahaanbaata', 'kahile', 'kahilekaahi', 'kaa',\n",
    "    'ki', 'kina', 'kinabhane', 'kunai', 'kuraa', 'kripayaa', 'ke', 'kewal', 'kehi', 'kehi',\n",
    "    'ko', 'kohi', 'gae', 'gayau', 'gara', 'gari', 'garii', 'gare', 'garekaa', 'gareko',\n",
    "    'garera', 'garau', 'garchha', 'garchhu', 'gardacha', 'gardai', 'garna', 'garnu', 'garnuparchha', 'garne',\n",
    "    'garnechhan', 'garnechhau', 'gaira', 'chaar', 'chaale', 'chaahanuhunchha', 'chaahanchhu', 'chaahanchhau', 'chaahanchhau', 'chaahanthe',\n",
    "    'chaahie', 'chha', 'chhan', 'chhu', 'chhuu', 'chhaina', 'chhau', 'jaba', 'jabaki', 'jasko',\n",
    "    'jasbaata', 'jasmaa', 'jaslai', 'jasle', 'jastai', 'jasto', 'jahaa', 'jaana', 'jaahir', 'juna',\n",
    "    'je', 'jo', 'thiik', 'ta', 'tatkaal', 'tathaa', 'tadanusaar', 'tapaai', 'tapaaii', 'tapaaiiko',\n",
    "    'tara', 'tala', 'taapani', 'tiniharulai', 'tinii', 'tiniharuko', 'tiniharuu', 'tiniharuuko', 'timi', 'timii',\n",
    "    'timiisanga', 'timro', 'tira', 'tii', 'tiin', 'turuntai', 'teskaraan', 'tesro', 'tyaspachhi', 'tyahaa',\n",
    "    'tyo', 'tspachhi', 'tsaile', 'thapa', 'thie', 'thiena', 'thienan', 'thiyo', 'die', 'dinubhaeko',\n",
    "    'dinuhunchha', 'duui', 'dubai', 'dekhi', 'dekhinchha', 'dekhiyo', 'dekhe', 'dekheko', 'dekhera', 'dosro',\n",
    "    'dwaaraa', 'dherai', 'na', 'nagarnuhos', 'najikai', 'natra', 'nayaa', 'ni', 'nimti', 'nimna',\n",
    "    'nai', 'nau', 'pakkaa', 'pakkai', 'pachhi', 'pachhillo', 'patak', 'pani', 'parchha', 'parthyo',\n",
    "    'paryaapta', 'pahile', 'pahilo', 'pahilyai', 'paanch', 'paanchau', 'purwa', 'prati', 'pratek', 'pratyek',\n",
    "    'plasa', 'pheri', 'pherii', 'bane', 'banda', 'baru', 'baata', 'baare', 'baaremaa', 'baahira',\n",
    "    'baaheka', 'biruddha', 'bishesha', 'biich', 'biichmaa', 'bhae', 'bhaeko', 'bhana', 'bhane', 'bhan',\n",
    "    'bhanchhan', 'bhanchhu', 'bhandaa', 'bhannubhayo', 'bhanne', 'bhara', 'bhitra', 'bhitrii', 'ma', 'ma',\n",
    "    'malai', 'maa', 'maatra', 'maathi', 'maarphata', 'mukhya', 'mero', 'maile', 'yati', 'yathochita',\n",
    "    'yadi', 'yadyapi', 'yasa', 'yasko', 'yaspachhi', 'yasbaaheka', 'yasari', 'yasaile', 'yaso', 'yasto',\n",
    "    'yahaa', 'yahaasamma', 'yaa', 'yii', 'yo', 'ra', 'rahi', 'rahekaa', 'raheko', 'raakhe',\n",
    "    'raakhchha', 'raamro', 'ruup', 'lagabhaga', 'lai', 'laagi', 'le', 'wariipari', 'waa', 'waastawamaa',\n",
    "    'wiruddha', 'shayada', 'sakadina', 'sakiena', 'sakchha', 'sakdaina', 'sanga', 'sangai', 'satta', 'sadhai',\n",
    "    'sabai', 'sabaile', 'samaya', 'samayamaa', 'sambhawa', 'samma', 'sahi', 'saachchai', 'saata', 'saatha',\n",
    "    'saathai', 'saayada', 'saaraa', 'so', 'sohi', 'spashta', 'hare', 'hareka', 'haami', 'haamisanga',\n",
    "    'haamro', 'hu', 'hundaina', 'huna', 'hunu', 'hunuhunchha', 'hune', 'hunechha', 'hunechhu', 'hun',\n",
    "    'hunchha', 'hunthe', 'ho', 'hoina', 'hau'\n",
    "])\n",
    "\n",
    "# Combining all the stopwords into a single set\n",
    "comnbined_stopwords_set = english_stopwords.union(nepali_stopwords).union(romanized_nepali_stopwords)"
   ]
  },
  {
   "cell_type": "code",
   "execution_count": 13,
   "id": "f8510485",
   "metadata": {},
   "outputs": [
    {
     "name": "stdout",
     "output_type": "stream",
     "text": [
      "                                         tokenized_text  \\\n",
      "0     [mero, ghar, ko, aagan, ma, dhulo, dherai, aau...   \n",
      "1     [mero, galli, ma, hidda, mero, chhaya, dherai,...   \n",
      "2     [वडा, नं, ., १६, नवोदित, स्कुल, नजिकै, द्याबु,...   \n",
      "3     [नदीमा, माछाहरू, धेरै, छन्।, यिनीहरूले, पानी, ...   \n",
      "4     [३१, वडा, पञ्चकुमारी, मन्दिर, निरकाे, खालि, जग...   \n",
      "...                                                 ...   \n",
      "3007  [प्रज्ञा, प्रतिष्ठान, को, पुर्व, पट्टि, जथाभाव...   \n",
      "3008  [मेरो, बारीको, मुलाले, बोल्दैन।, यसलाई, बोल्न,...   \n",
      "3009  [i, am, a, resident, of, balaju, ,, ganga, hal...   \n",
      "3010  [बानेश्वर, चोकमा, रहेको, माहविर, स्विटले, बासी...   \n",
      "3011  [ढलको, ढकनी, धेरै, भारी, छ।, यसलाई, हलुका, बना...   \n",
      "\n",
      "                                stopword_removed_tokens  \n",
      "0     [ghar, aagan, dhulo, aauchha, ., dhulo, rokna,...  \n",
      "1     [galli, hidda, chhaya, lamo, bhayo, ., chhaya,...  \n",
      "2     [वडा, नं, ., १६, नवोदित, स्कुल, द्याबु, मार्गम...  \n",
      "3     [नदीमा, माछाहरू, छन्।, यिनीहरूले, पानी, फोहोर,...  \n",
      "4     [३१, वडा, पञ्चकुमारी, मन्दिर, निरकाे, खालि, जग...  \n",
      "...                                                 ...  \n",
      "3007  [प्रज्ञा, प्रतिष्ठान, पुर्व, पट्टि, जथाभावि, प...  \n",
      "3008  [बारीको, मुलाले, बोल्दैन।, यसलाई, बोल्न, सिकाउ...  \n",
      "3009  [resident, balaju, ,, ganga, hall, kindly, req...  \n",
      "3010  [बानेश्वर, चोकमा, माहविर, स्विटले, बासी, कुइएक...  \n",
      "3011  [ढलको, ढकनी, भारी, छ।, यसलाई, हलुका, बनाउनुपर्छ।]  \n",
      "\n",
      "[3000 rows x 2 columns]\n"
     ]
    }
   ],
   "source": [
    "# Applying the stopwords removal to the tokenized text\n",
    "def remove_stopwords(tokens):\n",
    "    filtered_tokens = [word for word in tokens if word not in comnbined_stopwords_set] \n",
    "    return filtered_tokens\n",
    "\n",
    "df['stopword_removed_tokens'] = df['tokenized_text'].apply(remove_stopwords)\n",
    "\n",
    "print(df[['tokenized_text', 'stopword_removed_tokens']].head(3000))"
   ]
  },
  {
   "cell_type": "code",
   "execution_count": 14,
   "id": "738f8834",
   "metadata": {},
   "outputs": [],
   "source": [
    "# saving the preprocessed dataframe to a new CSV file\n",
    "import pickle\n",
    "df_to_save = df[['Brief Description of the grievance', 'cleaned_text', 'stopword_removed_tokens', 'Label']]\n",
    "df_to_save.to_pickle(r'D:/JantakoAwaj-FYP/jka-ml-model/dataset/preprocessed_data.pkl', protocol=pickle.HIGHEST_PROTOCOL) #pickle.HIGHEST_PROTOCOL is a constant that refers to the most efficient and latest protocol available for our Python version."
   ]
  }
 ],
 "metadata": {
  "kernelspec": {
   "display_name": "Python 3",
   "language": "python",
   "name": "python3"
  },
  "language_info": {
   "codemirror_mode": {
    "name": "ipython",
    "version": 3
   },
   "file_extension": ".py",
   "mimetype": "text/x-python",
   "name": "python",
   "nbconvert_exporter": "python",
   "pygments_lexer": "ipython3",
   "version": "3.10.18"
  }
 },
 "nbformat": 4,
 "nbformat_minor": 5
}
