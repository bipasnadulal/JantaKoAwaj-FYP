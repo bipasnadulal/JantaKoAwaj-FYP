{
 "cells": [
  {
   "cell_type": "markdown",
   "id": "7cee1833",
   "metadata": {},
   "source": [
    "#### This script cleans the dataset by removing unwanted columns and saving the cleaned dataset"
   ]
  },
  {
   "cell_type": "code",
   "execution_count": 3,
   "id": "fd5d54f2",
   "metadata": {},
   "outputs": [
    {
     "name": "stdout",
     "output_type": "stream",
     "text": [
      "Cleaned dataset saved as 'D:/JantaKoAwaj-FYP/jka-ml-model/dataset\\cleaned_complaints_dataset.csv'\n"
     ]
    }
   ],
   "source": [
    "import pandas as pd\n",
    "import os\n",
    "\n",
    "# Define input and output file paths\n",
    "input_file = r\"D:/JantaKoAwaj-FYP/jka-ml-model/dataset/final_complaints_dataset.csv\"\n",
    "output_folder = r\"D:/JantaKoAwaj-FYP/jka-ml-model/dataset\"\n",
    "output_file = os.path.join(output_folder, 'cleaned_complaints_dataset.csv')\n",
    "\n",
    "# read the dataset\n",
    "df = pd.read_csv(input_file)\n",
    "\n",
    "# Drop unwanted columns\n",
    "df.drop(columns=['S.N','Ward No.','Case No.','Date of Grievance', 'Department', 'Status'], inplace=True)\n",
    "\n",
    "# Save cleaned dataset\n",
    "df.to_csv(output_file, index=False, encoding='utf-8-sig')\n",
    "\n",
    "print(f\"Cleaned dataset saved as '{output_file}'\")\n"
   ]
  },
  {
   "cell_type": "markdown",
   "id": "61798354",
   "metadata": {},
   "source": [
    "##### Adding SNo. in the column starting from 1 and bringing it to the front"
   ]
  },
  {
   "cell_type": "code",
   "execution_count": 4,
   "id": "0d13282a",
   "metadata": {},
   "outputs": [
    {
     "name": "stdout",
     "output_type": "stream",
     "text": [
      "SNo column updated and saved as 'final_dataset.csv'\n"
     ]
    }
   ],
   "source": [
    "import pandas as pd\n",
    "\n",
    "# Load the cleaned dataset\n",
    "df = pd.read_csv(r'D:/JantaKoAwaj-FYP/jka-ml-model/dataset/cleaned_complaints_dataset.csv', encoding='utf-8-sig')\n",
    "\n",
    "# Add 'SNo' column\n",
    "df['SNo'] = range(1, len(df) + 1)\n",
    "\n",
    "# Move 'SNo' to the front \n",
    "cols = ['SNo'] + [col for col in df.columns if col != 'SNo']\n",
    "df = df[cols]\n",
    "\n",
    "# Save file\n",
    "df.to_csv(r'D:/JantaKoAwaj-FYP/jka-ml-model/dataset/final_dataset.csv', index=False, encoding='utf-8-sig')\n",
    "\n",
    "print(\"SNo column updated and saved as 'final_dataset.csv'\")\n"
   ]
  },
  {
   "cell_type": "markdown",
   "id": "10d39b3a",
   "metadata": {},
   "source": [
    "### viewing dataset"
   ]
  },
  {
   "cell_type": "code",
   "execution_count": 5,
   "id": "cebb1607",
   "metadata": {},
   "outputs": [
    {
     "data": {
      "text/html": [
       "<div>\n",
       "<style scoped>\n",
       "    .dataframe tbody tr th:only-of-type {\n",
       "        vertical-align: middle;\n",
       "    }\n",
       "\n",
       "    .dataframe tbody tr th {\n",
       "        vertical-align: top;\n",
       "    }\n",
       "\n",
       "    .dataframe thead th {\n",
       "        text-align: right;\n",
       "    }\n",
       "</style>\n",
       "<table border=\"1\" class=\"dataframe\">\n",
       "  <thead>\n",
       "    <tr style=\"text-align: right;\">\n",
       "      <th></th>\n",
       "      <th>SNo</th>\n",
       "      <th>Brief Description of the grievance</th>\n",
       "      <th>Category</th>\n",
       "      <th>Label</th>\n",
       "    </tr>\n",
       "  </thead>\n",
       "  <tbody>\n",
       "    <tr>\n",
       "      <th>0</th>\n",
       "      <td>1</td>\n",
       "      <td>वडा नं. १७ बुद्ध गल्ली पोडे टोलमा ९ वटा जति कु...</td>\n",
       "      <td>कृषि तथा पशुपंक्षी</td>\n",
       "      <td>genuine</td>\n",
       "    </tr>\n",
       "    <tr>\n",
       "      <th>1</th>\n",
       "      <td>2</td>\n",
       "      <td>सुविधानगर तिनकुने विग मार्ट अगाडी बाटोमा हिड्न...</td>\n",
       "      <td>कृषि तथा पशुपंक्षी</td>\n",
       "      <td>genuine</td>\n",
       "    </tr>\n",
       "    <tr>\n",
       "      <th>2</th>\n",
       "      <td>3</td>\n",
       "      <td>धुम्वाराहि डियो ब्याड्डकेट अगाडी कुकुरलाई गाडी...</td>\n",
       "      <td>कृषि तथा पशुपंक्षी</td>\n",
       "      <td>genuine</td>\n",
       "    </tr>\n",
       "    <tr>\n",
       "      <th>3</th>\n",
       "      <td>4</td>\n",
       "      <td>शान्ति नगर गेट ३१ वडा पछाडी विग मार्ट अगाडी एउ...</td>\n",
       "      <td>कृषि तथा पशुपंक्षी</td>\n",
       "      <td>genuine</td>\n",
       "    </tr>\n",
       "    <tr>\n",
       "      <th>4</th>\n",
       "      <td>5</td>\n",
       "      <td>सिफल चौर मुनी वडा नं. ७ एउटा रोगी कुकुर छट्पटा...</td>\n",
       "      <td>कृषि तथा पशुपंक्षी</td>\n",
       "      <td>genuine</td>\n",
       "    </tr>\n",
       "    <tr>\n",
       "      <th>...</th>\n",
       "      <td>...</td>\n",
       "      <td>...</td>\n",
       "      <td>...</td>\n",
       "      <td>...</td>\n",
       "    </tr>\n",
       "    <tr>\n",
       "      <th>595</th>\n",
       "      <td>596</td>\n",
       "      <td>कालोपुल र भत्केको पुलको बिच रुद्रमति मार्ग बुद...</td>\n",
       "      <td>नगर प्रहरी</td>\n",
       "      <td>genuine</td>\n",
       "    </tr>\n",
       "    <tr>\n",
       "      <th>596</th>\n",
       "      <td>597</td>\n",
       "      <td>Kuleshwor - Kalanki jodne Link Marg (https://m...</td>\n",
       "      <td>नगर प्रहरी</td>\n",
       "      <td>genuine</td>\n",
       "    </tr>\n",
       "    <tr>\n",
       "      <th>597</th>\n",
       "      <td>598</td>\n",
       "      <td>वडा नं. ३१ मिलिजुली मार्ग शान्ति नगरमा विगत ४ ...</td>\n",
       "      <td>नगर प्रहरी</td>\n",
       "      <td>genuine</td>\n",
       "    </tr>\n",
       "    <tr>\n",
       "      <th>598</th>\n",
       "      <td>599</td>\n",
       "      <td>का.म.पा. २८ नं. वडा बागबजार बज्रबिर मार्ग कुमा...</td>\n",
       "      <td>नगर प्रहरी</td>\n",
       "      <td>genuine</td>\n",
       "    </tr>\n",
       "    <tr>\n",
       "      <th>599</th>\n",
       "      <td>600</td>\n",
       "      <td>का.म.पा. २८ नं. वडा बागबजार बज्रबिर मार्ग कुमा...</td>\n",
       "      <td>नगर प्रहरी</td>\n",
       "      <td>genuine</td>\n",
       "    </tr>\n",
       "  </tbody>\n",
       "</table>\n",
       "<p>600 rows × 4 columns</p>\n",
       "</div>"
      ],
      "text/plain": [
       "     SNo                 Brief Description of the grievance  \\\n",
       "0      1  वडा नं. १७ बुद्ध गल्ली पोडे टोलमा ९ वटा जति कु...   \n",
       "1      2  सुविधानगर तिनकुने विग मार्ट अगाडी बाटोमा हिड्न...   \n",
       "2      3  धुम्वाराहि डियो ब्याड्डकेट अगाडी कुकुरलाई गाडी...   \n",
       "3      4  शान्ति नगर गेट ३१ वडा पछाडी विग मार्ट अगाडी एउ...   \n",
       "4      5  सिफल चौर मुनी वडा नं. ७ एउटा रोगी कुकुर छट्पटा...   \n",
       "..   ...                                                ...   \n",
       "595  596  कालोपुल र भत्केको पुलको बिच रुद्रमति मार्ग बुद...   \n",
       "596  597  Kuleshwor - Kalanki jodne Link Marg (https://m...   \n",
       "597  598  वडा नं. ३१ मिलिजुली मार्ग शान्ति नगरमा विगत ४ ...   \n",
       "598  599  का.म.पा. २८ नं. वडा बागबजार बज्रबिर मार्ग कुमा...   \n",
       "599  600  का.म.पा. २८ नं. वडा बागबजार बज्रबिर मार्ग कुमा...   \n",
       "\n",
       "               Category    Label  \n",
       "0    कृषि तथा पशुपंक्षी  genuine  \n",
       "1    कृषि तथा पशुपंक्षी  genuine  \n",
       "2    कृषि तथा पशुपंक्षी  genuine  \n",
       "3    कृषि तथा पशुपंक्षी  genuine  \n",
       "4    कृषि तथा पशुपंक्षी  genuine  \n",
       "..                  ...      ...  \n",
       "595          नगर प्रहरी  genuine  \n",
       "596          नगर प्रहरी  genuine  \n",
       "597          नगर प्रहरी  genuine  \n",
       "598          नगर प्रहरी  genuine  \n",
       "599          नगर प्रहरी  genuine  \n",
       "\n",
       "[600 rows x 4 columns]"
      ]
     },
     "execution_count": 5,
     "metadata": {},
     "output_type": "execute_result"
    }
   ],
   "source": [
    "import pandas as pd\n",
    "\n",
    "# Load your cleaned dataset\n",
    "df = pd.read_csv(r'D:/JantaKoAwaj-FYP/jka-ml-model/dataset/final_dataset.csv', encoding='utf-8-sig')\n",
    "\n",
    "df.head(600)"
   ]
  },
  {
   "cell_type": "markdown",
   "id": "d4b60e2a",
   "metadata": {},
   "source": [
    "#### Count the complaints by category"
   ]
  },
  {
   "cell_type": "code",
   "execution_count": 2,
   "id": "4c6e71e0",
   "metadata": {},
   "outputs": [
    {
     "name": "stdout",
     "output_type": "stream",
     "text": [
      "Category\n",
      "नगर प्रहरी            3335\n",
      "नगर प्रहरी.ख          2721\n",
      "सार्वजनिक निरमाण ख     739\n",
      "सार्वजनिक निरमाण       739\n",
      "कृषि तथा पशुपंक्षी     593\n",
      "वातावरण                552\n",
      "शिक्षा                 252\n",
      "शिक्षा ख               252\n",
      "Name: count, dtype: int64\n"
     ]
    }
   ],
   "source": [
    "# Count the complaints by category\n",
    "\n",
    "import pandas as pd\n",
    "df = pd.read_csv(r'D:/JantaKoAwaj-FYP/jka-ml-model/dataset/final_dataset.csv', encoding='utf-8-sig')\n",
    "\n",
    "# Count the number of complaints in each category\n",
    "complaint_counts_by_category = df['Category'].value_counts()  #method is used to count the unique values in a Series. It returns a Series containing counts of unique values, sorted in descending order by default.\n",
    "\n",
    "print(complaint_counts_by_category)"
   ]
  },
  {
   "cell_type": "markdown",
   "id": "53659f2a",
   "metadata": {},
   "source": [
    "### Normalizing categories"
   ]
  },
  {
   "cell_type": "code",
   "execution_count": 2,
   "id": "e2cf6517",
   "metadata": {},
   "outputs": [],
   "source": [
    "import pandas as pd\n",
    "\n",
    "df = pd.read_csv(r'D:/JantaKoAwaj-FYP/jka-ml-model/dataset/final_dataset.csv', encoding='utf-8-sig')\n",
    "#Normalizing categories with 'kha' (ख) in one single category by using replace method\n",
    "df['Category'] = df['Category'].replace({\n",
    "    \"शिक्षा ख\": \"शिक्षा\",\n",
    "    \"नगर प्रहरी.ख\": \"नगर प्रहरी\",\n",
    "    \"सार्वजनिक निरमाण ख\": \"सार्वजनिक निरमाण\"\n",
    "})\n",
    "\n",
    "# Saving the normalized dataset\n",
    "df.to_csv(r'D:/JantaKoAwaj-FYP/jka-ml-model/dataset/normalized_dataset.csv', index=False, encoding='utf-8-sig')\n",
    "\n"
   ]
  },
  {
   "cell_type": "code",
   "execution_count": 4,
   "id": "6b8da161",
   "metadata": {},
   "outputs": [
    {
     "name": "stdout",
     "output_type": "stream",
     "text": [
      "Category\n",
      "नगर प्रहरी            6056\n",
      "सार्वजनिक निरमाण      1478\n",
      "कृषि तथा पशुपंक्षी     593\n",
      "वातावरण                552\n",
      "शिक्षा                 504\n",
      "Name: count, dtype: int64\n"
     ]
    }
   ],
   "source": [
    "import pandas as pd\n",
    "\n",
    "df = pd.read_csv(r'D:/JantaKoAwaj-FYP/jka-ml-model/dataset/normalized_dataset.csv', encoding='utf-8-sig')\n",
    "count_normalized_dataset_category=df['Category'].value_counts()\n",
    "print(count_normalized_dataset_category)"
   ]
  }
 ],
 "metadata": {
  "kernelspec": {
   "display_name": "Python 3",
   "language": "python",
   "name": "python3"
  },
  "language_info": {
   "codemirror_mode": {
    "name": "ipython",
    "version": 3
   },
   "file_extension": ".py",
   "mimetype": "text/x-python",
   "name": "python",
   "nbconvert_exporter": "python",
   "pygments_lexer": "ipython3",
   "version": "3.10.18"
  }
 },
 "nbformat": 4,
 "nbformat_minor": 5
}
