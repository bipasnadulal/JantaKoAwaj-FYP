{
 "cells": [
  {
   "cell_type": "markdown",
   "id": "9aea64f1",
   "metadata": {},
   "source": [
    "### Feature Extraction using TF-IDF vectorization\n",
    "- using TfidfVectorizer"
   ]
  },
  {
   "cell_type": "code",
   "execution_count": null,
   "id": "160b121c",
   "metadata": {},
   "outputs": [],
   "source": [
    "pip show scikit-learn"
   ]
  },
  {
   "cell_type": "code",
   "execution_count": 6,
   "id": "30d11dca",
   "metadata": {},
   "outputs": [],
   "source": [
    "import pandas as pd\n",
    "# importing required modules\n",
    "from sklearn.feature_extraction.text import TfidfVectorizer"
   ]
  },
  {
   "cell_type": "code",
   "execution_count": 7,
   "id": "cb5b7aef",
   "metadata": {},
   "outputs": [
    {
     "name": "stdout",
     "output_type": "stream",
     "text": [
      "                  Brief Description of the grievance  \\\n",
      "0  Mero ghar ko aagan ma dhulo dherai aauchha. Dh...   \n",
      "1  Mero galli ma hidda mero chhaya dherai lamo bh...   \n",
      "2  वडा नं. १६ नवोदित स्कुल नजिकै द्याबु मार्गमा व...   \n",
      "3  नदीमा माछाहरू धेरै छन्। यिनीहरूले पानी फोहोर ग...   \n",
      "4   ३१ वडा पञ्चकुमारी मन्दिर निरकाे खालि जग्गामा ...   \n",
      "\n",
      "                                        cleaned_text  \\\n",
      "0  mero ghar ko aagan ma dhulo dherai aauchha. dh...   \n",
      "1  mero galli ma hidda mero chhaya dherai lamo bh...   \n",
      "2  वडा नं. १६ नवोदित स्कुल नजिकै द्याबु मार्गमा व...   \n",
      "3  नदीमा माछाहरू धेरै छन्। यिनीहरूले पानी फोहोर ग...   \n",
      "4  ३१ वडा पञ्चकुमारी मन्दिर निरकाे खालि जग्गामा ल...   \n",
      "\n",
      "                             stopword_removed_tokens        Label  \n",
      "0  [ghar, aagan, dhulo, aauchha, ., dhulo, rokna,...  not_genuine  \n",
      "1  [galli, hidda, chhaya, lamo, bhayo, ., chhaya,...  not_genuine  \n",
      "2  [वडा, नं, ., १६, नवोदित, स्कुल, द्याबु, मार्गम...      genuine  \n",
      "3  [नदीमा, माछाहरू, छन्।, यिनीहरूले, पानी, फोहोर,...  not_genuine  \n",
      "4  [३१, वडा, पञ्चकुमारी, मन्दिर, निरकाे, खालि, जग...      genuine  \n"
     ]
    }
   ],
   "source": [
    "# defining the path to the dataset\n",
    "dataset_path = r'D:/JantaKoAwaj-FYP/jka-ml-model/dataset/preprocessed_data.pkl'\n",
    "\n",
    "# reading the dataset saved in pickle format\n",
    "df = pd.read_pickle(dataset_path)\n",
    "print(df.head())\n"
   ]
  },
  {
   "cell_type": "code",
   "execution_count": 11,
   "id": "ac1149c7",
   "metadata": {},
   "outputs": [],
   "source": [
    "# initializing the TfidfVectorizer\n",
    "vectorizer = TfidfVectorizer(max_features=10000, ngram_range=(1,2))\n",
    "# fitting the vectorizer\n",
    "X_tfidf = vectorizer.fit_transform(df['cleaned_text'])"
   ]
  },
  {
   "cell_type": "code",
   "execution_count": 12,
   "id": "c591150f",
   "metadata": {},
   "outputs": [
    {
     "name": "stdout",
     "output_type": "stream",
     "text": [
      "\n",
      "TfidfVectorizer Output\n",
      "Shape of TfidfVectorizer matrix (documents x features): (9874, 10000)\n",
      "Type of matrix: <class 'scipy.sparse._csr.csr_matrix'>\n"
     ]
    }
   ],
   "source": [
    "print(\"\\nTfidfVectorizer Output\")\n",
    "print(\"Shape of TfidfVectorizer matrix (documents x features):\", X_tfidf.shape)\n",
    "print(\"Type of matrix:\", type(X_tfidf)) # Also a sparse matrix"
   ]
  },
  {
   "cell_type": "code",
   "execution_count": 13,
   "id": "180c8869",
   "metadata": {},
   "outputs": [
    {
     "name": "stdout",
     "output_type": "stream",
     "text": [
      "Saved the TF-IDF features and vectorizer successfully.\n"
     ]
    }
   ],
   "source": [
    "import scipy\n",
    "import joblib\n",
    "# Save TF-IDF matrix (as .npz since it's sparse)\n",
    "#TF-IDF matrices are huge but mostly filled with zeros and few non-zeros.\n",
    "#.npz format stores it as a sparse matrix, saving memory and disk space. (Instead of storing all elements (including zeros), save space by storing only the non-zero values)\n",
    "scipy.sparse.save_npz(r'D:/JantaKoAwaj-FYP/jka-ml-model/dataset/features/tfidf_features.npz', X_tfidf)\n",
    "\n",
    "# Save the vectorizer\n",
    "joblib.dump(vectorizer, r'D:/JantaKoAwaj-FYP/jka-ml-model/dataset/features/tfidf_vectorizer.pkl')\n",
    "\n",
    "# Mapping the lables to binary value (0 and 1)\n",
    "# 0 for not_genuine and 1 for genuine\n",
    "df['labeled'] = df['Label'].map({'not_genuine':0, 'genuine':1})\n",
    "# Save the labeled DataFrame\n",
    "df['labeled'].to_csv(r'D:/JantaKoAwaj-FYP/jka-ml-model/dataset/features/labeled_data.csv', index=False)\n",
    "\n",
    "print(\"Saved the TF-IDF features and vectorizer successfully.\")\n"
   ]
  }
 ],
 "metadata": {
  "kernelspec": {
   "display_name": "Python 3",
   "language": "python",
   "name": "python3"
  },
  "language_info": {
   "codemirror_mode": {
    "name": "ipython",
    "version": 3
   },
   "file_extension": ".py",
   "mimetype": "text/x-python",
   "name": "python",
   "nbconvert_exporter": "python",
   "pygments_lexer": "ipython3",
   "version": "3.10.18"
  }
 },
 "nbformat": 4,
 "nbformat_minor": 5
}
