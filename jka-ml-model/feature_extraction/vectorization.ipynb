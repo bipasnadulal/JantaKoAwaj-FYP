{
 "cells": [
  {
   "cell_type": "markdown",
   "id": "9aea64f1",
   "metadata": {},
   "source": [
    "### Feature Extraction using TF-IDF vectorization\n",
    "- using TfidfVectorizer"
   ]
  },
  {
   "cell_type": "code",
   "execution_count": 1,
   "id": "160b121c",
   "metadata": {},
   "outputs": [
    {
     "name": "stdout",
     "output_type": "stream",
     "text": [
      "Name: scikit-learn\n",
      "Version: 1.6.1\n",
      "Summary: A set of python modules for machine learning and data mining\n",
      "Home-page: https://scikit-learn.org\n",
      "Author: \n",
      "Author-email: \n",
      "License: BSD 3-Clause License\n",
      "         \n",
      "         Copyright (c) 2007-2024 The scikit-learn developers.\n",
      "         All rights reserved.\n",
      "         \n",
      "         Redistribution and use in source and binary forms, with or without\n",
      "         modification, are permitted provided that the following conditions are met:\n",
      "         \n",
      "         * Redistributions of source code must retain the above copyright notice, this\n",
      "           list of conditions and the following disclaimer.\n",
      "         \n",
      "         * Redistributions in binary form must reproduce the above copyright notice,\n",
      "           this list of conditions and the following disclaimer in the documentation\n",
      "           and/or other materials provided with the distribution.\n",
      "         \n",
      "         * Neither the name of the copyright holder nor the names of its\n",
      "           contributors may be used to endorse or promote products derived from\n",
      "           this software without specific prior written permission.\n",
      "         \n",
      "         THIS SOFTWARE IS PROVIDED BY THE COPYRIGHT HOLDERS AND CONTRIBUTORS \"AS IS\"\n",
      "         AND ANY EXPRESS OR IMPLIED WARRANTIES, INCLUDING, BUT NOT LIMITED TO, THE\n",
      "         IMPLIED WARRANTIES OF MERCHANTABILITY AND FITNESS FOR A PARTICULAR PURPOSE ARE\n",
      "         DISCLAIMED. IN NO EVENT SHALL THE COPYRIGHT HOLDER OR CONTRIBUTORS BE LIABLE\n",
      "         FOR ANY DIRECT, INDIRECT, INCIDENTAL, SPECIAL, EXEMPLARY, OR CONSEQUENTIAL\n",
      "         DAMAGES (INCLUDING, BUT NOT LIMITED TO, PROCUREMENT OF SUBSTITUTE GOODS OR\n",
      "         SERVICES; LOSS OF USE, DATA, OR PROFITS; OR BUSINESS INTERRUPTION) HOWEVER\n",
      "         CAUSED AND ON ANY THEORY OF LIABILITY, WHETHER IN CONTRACT, STRICT LIABILITY,\n",
      "         OR TORT (INCLUDING NEGLIGENCE OR OTHERWISE) ARISING IN ANY WAY OUT OF THE USE\n",
      "         OF THIS SOFTWARE, EVEN IF ADVISED OF THE POSSIBILITY OF SUCH DAMAGE.\n",
      "         \n",
      "Location: d:\\jka-ml\\lib\\site-packages\n",
      "Requires: joblib, numpy, scipy, threadpoolctl\n",
      "Required-by: \n",
      "Note: you may need to restart the kernel to use updated packages.\n"
     ]
    }
   ],
   "source": [
    "pip show scikit-learn"
   ]
  },
  {
   "cell_type": "code",
   "execution_count": 2,
   "id": "30d11dca",
   "metadata": {},
   "outputs": [],
   "source": [
    "import pandas as pd\n",
    "# importing required modules\n",
    "from sklearn.feature_extraction.text import TfidfVectorizer"
   ]
  },
  {
   "cell_type": "code",
   "execution_count": 3,
   "id": "cb5b7aef",
   "metadata": {},
   "outputs": [
    {
     "name": "stdout",
     "output_type": "stream",
     "text": [
      "                  Brief Description of the grievance  \\\n",
      "0  वडा नं. १६ ढुङ्गेधाराबाट नर्सरी चोक जाने बाटो ...   \n",
      "1  लाजिम्पाट फ्रेन्च एम्बेसि बसेको अपोजिट आगन स्व...   \n",
      "2  विशालनगर मिलोट मार्गमा रहको स्कुलले म्युजिक बन...   \n",
      "3  एयरपोर्ट होटेल अगाडि टर्निङ्गको गल्लिमा ठेलागा...   \n",
      "4  भृकुटिमण्डप भित्र जुत्ता मेला नजिक सुनिता खाजा...   \n",
      "\n",
      "                                        cleaned_text  \\\n",
      "0  वडा नं. १६ ढुङ्गेधाराबाट नर्सरी चोक जाने बाटो ...   \n",
      "1  लाजिम्पाट फ्रेन्च एम्बेसि बसेको अपोजिट आगन स्व...   \n",
      "2  विशालनगर मिलोट मार्गमा रहको स्कुलले म्युजिक बन...   \n",
      "3  एयरपोर्ट होटेल अगाडि टर्निङ्गको गल्लिमा ठेलागा...   \n",
      "4  भृकुटिमण्डप भित्र जुत्ता मेला नजिक सुनिता खाजा...   \n",
      "\n",
      "                             stopword_removed_tokens    Label  \n",
      "0  [वडा, नं, ., १६, ढुङ्गेधाराबाट, नर्सरी, चोक, ज...  genuine  \n",
      "1  [लाजिम्पाट, फ्रेन्च, एम्बेसि, बसेको, अपोजिट, आ...  genuine  \n",
      "2  [विशालनगर, मिलोट, मार्गमा, रहको, स्कुलले, म्यु...  genuine  \n",
      "3  [एयरपोर्ट, होटेल, अगाडि, टर्निङ्गको, गल्लिमा, ...  genuine  \n",
      "4  [भृकुटिमण्डप, जुत्ता, मेला, नजिक, सुनिता, खाजा...  genuine  \n"
     ]
    }
   ],
   "source": [
    "# defining the path to the dataset\n",
    "dataset_path = r'D:/JantaKoAwaj-FYP/jka-ml-model/dataset/preprocessed_data.pkl'\n",
    "\n",
    "# reading the dataset saved in pickle format\n",
    "df = pd.read_pickle(dataset_path)\n",
    "print(df.head())\n"
   ]
  },
  {
   "cell_type": "code",
   "execution_count": 4,
   "id": "ac1149c7",
   "metadata": {},
   "outputs": [],
   "source": [
    "# initializing the TfidfVectorizer\n",
    "vectorizer = TfidfVectorizer(max_features=5000)\n",
    "# fitting the vectorizer\n",
    "X_tfidf = vectorizer.fit_transform(df['cleaned_text'])"
   ]
  },
  {
   "cell_type": "code",
   "execution_count": 5,
   "id": "c591150f",
   "metadata": {},
   "outputs": [
    {
     "name": "stdout",
     "output_type": "stream",
     "text": [
      "\n",
      "TfidfVectorizer Output\n",
      "Shape of TfidfVectorizer matrix (documents x features): (7975, 5000)\n",
      "Type of matrix: <class 'scipy.sparse._csr.csr_matrix'>\n"
     ]
    }
   ],
   "source": [
    "print(\"\\nTfidfVectorizer Output\")\n",
    "print(\"Shape of TfidfVectorizer matrix (documents x features):\", X_tfidf.shape)\n",
    "print(\"Type of matrix:\", type(X_tfidf)) # Also a sparse matrix"
   ]
  },
  {
   "cell_type": "code",
   "execution_count": 6,
   "id": "180c8869",
   "metadata": {},
   "outputs": [
    {
     "name": "stdout",
     "output_type": "stream",
     "text": [
      "Saved the TF-IDF features and vectorizer successfully.\n"
     ]
    }
   ],
   "source": [
    "import scipy\n",
    "import joblib\n",
    "# Save TF-IDF matrix (as .npz since it's sparse)\n",
    "#TF-IDF matrices are huge but mostly filled with zeros and few non-zeros.\n",
    "#.npz format stores it as a sparse matrix, saving memory and disk space. (Instead of storing all elements (including zeros), save space by storing only the non-zero values)\n",
    "scipy.sparse.save_npz(r'D:/JantaKoAwaj-FYP/jka-ml-model/dataset/features/tfidf_features.npz', X_tfidf)\n",
    "\n",
    "# Save the vectorizer\n",
    "joblib.dump(vectorizer, r'D:/JantaKoAwaj-FYP/jka-ml-model/dataset/features/tfidf_vectorizer.pkl')\n",
    "\n",
    "# Mapping the lables to binary value (0 and 1)\n",
    "# 0 for not_genuine and 1 for genuine\n",
    "df['labeled'] = df['Label'].map({'not_genuine':0, 'genuine':1})\n",
    "# Save the labeled DataFrame\n",
    "df['labeled'].to_csv(r'D:/JantaKoAwaj-FYP/jka-ml-model/dataset/features/labeled_data.csv', index=False)\n",
    "\n",
    "print(\"Saved the TF-IDF features and vectorizer successfully.\")\n"
   ]
  }
 ],
 "metadata": {
  "kernelspec": {
   "display_name": "Python 3",
   "language": "python",
   "name": "python3"
  },
  "language_info": {
   "codemirror_mode": {
    "name": "ipython",
    "version": 3
   },
   "file_extension": ".py",
   "mimetype": "text/x-python",
   "name": "python",
   "nbconvert_exporter": "python",
   "pygments_lexer": "ipython3",
   "version": "3.10.18"
  }
 },
 "nbformat": 4,
 "nbformat_minor": 5
}
