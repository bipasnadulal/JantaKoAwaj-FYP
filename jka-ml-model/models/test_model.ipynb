{
 "cells": [
  {
   "cell_type": "code",
   "execution_count": 42,
   "id": "7f51cd0e",
   "metadata": {},
   "outputs": [],
   "source": [
    "import joblib\n",
    "import sys\n",
    "sys.path.append(r'D:/JantaKoAwaj-FYP/jka-ml-model/preprocessing')\n",
    "\n",
    "from code_for_cleaning_text import clean_text, tokenize_text, remove_stopwords\n"
   ]
  },
  {
   "cell_type": "code",
   "execution_count": 44,
   "id": "ba7b3970",
   "metadata": {},
   "outputs": [
    {
     "name": "stdout",
     "output_type": "stream",
     "text": [
      "Predicted Class: genuine\n"
     ]
    }
   ],
   "source": [
    "# load saved model\n",
    "model = joblib.load(r'D:/JantaKoAwaj-FYP/jka-ml-model/dataset/models/mult_NB_model_tuned.pkl')\n",
    "\n",
    "# sample_text = \"बिजुली सधै जान्छ, गुनासो सुनिदैन।\"\n",
    "# sample_text = \"Mero mobile hang vayo, k yesto complaint garnu milcha?\"\n",
    "# sample_text = \"This is just for fun, don't take it seriously.\"\n",
    "sample_text = \"Sarkar le mero breakup ko justice dinuparcha!\"\n",
    "# sample_text = \"Yo complaint chai mood anusar lekheko ho, ignore garnu.\"\n",
    "# sample_text = \"Please complain system le mero exam pass garideu.\"\n",
    "# sample_text = \"Daju tapai sundar hunuhunchha, aru gune sochdaina.\"\n",
    "# sample_text = \"Your system is great. No issues, just testing.\"\n",
    "# sample_text = \"Why can't I get a Ferrari for free from the government?\"\n",
    "# sample_text = \"My neighbor's dog looks suspicious. Do something\"\n",
    "# sample_text = \"यो सिस्टम ले मलाई लटरी जिताइदिनुपर्छ।\"\n",
    "# sample_text =\"This system is not good, air water haha\"\n",
    "# sample_text =\"My name is Bipasna\"\n",
    "# sample_text =\"सडकमा खाल्डाखुल्डीले गर्दा गाडी दुर्घटना बढ्दैछ।\"\n",
    "# sample_text = \"कर तिर्दा अनावश्यक कागजात मागिन्छ।\"\n",
    "# sample_text = \"There is a constant water leakage near the community tap.\"\n",
    "# sample_text =\"Sadak maa dherai khadka chhan, gaadi chalauna garo bhaeko cha.\"  #not genuine marked, even thiugh it is genuine\n",
    "# sample_text = \"Khaane paani tin din ma ek choti matra aauchha.\"\n",
    "\n",
    "\n",
    "cleaned = clean_text(sample_text)\n",
    "tokenized_text = tokenize_text(cleaned)\n",
    "stopwords_removed = remove_stopwords(tokenized_text)\n",
    "final_text = ' '.join(stopwords_removed)\n",
    "\n",
    "\n",
    "vectorizer = joblib.load(r'D:/JantaKoAwaj-FYP/jka-ml-model/dataset/features/tfidf_vectorizer.pkl')\n",
    "X_input = vectorizer.transform([final_text])\n",
    "\n",
    "prediction = model.predict(X_input)\n",
    "# print(prediction)\n",
    "label_map = {0 : 'not_genuine', 1 : 'genuine'}\n",
    "print(f\"Predicted Class:\", label_map.get(prediction[0], prediction[0]))\n"
   ]
  },
  {
   "cell_type": "markdown",
   "id": "33704762",
   "metadata": {},
   "source": [
    "### Testing the model using Linear SVM Model"
   ]
  },
  {
   "cell_type": "code",
   "execution_count": 41,
   "id": "6d400743",
   "metadata": {},
   "outputs": [
    {
     "name": "stdout",
     "output_type": "stream",
     "text": [
      "Predicted Class: genuine\n"
     ]
    }
   ],
   "source": [
    "# load model\n",
    "model = joblib.load(r'D:/JantaKoAwaj-FYP/jka-ml-model/dataset/models/svm_model.pkl')\n",
    "\n",
    "\n",
    "# sample_text = \"बिजुली सधै जान्छ, गुनासो सुनिदैन।\"\n",
    "# sample_text = \"Mero mobile hang vayo, k yesto complaint garnu milcha?\"\n",
    "# sample_text = \"This is just for fun, don't take it seriously.\"\n",
    "# sample_text = \"Sarkar le mero breakup ko justice dinuparcha!\"\n",
    "# sample_text = \"Yo complaint chai mood anusar lekheko ho, ignore garnu.\"\n",
    "# sample_text = \"Please complain system le mero exam pass garideu.\"\n",
    "# sample_text = \"Daju tapai sundar hunuhunchha, aru gune sochdaina.\"\n",
    "# sample_text = \"Your system is great. No issues, just testing.\"\n",
    "# sample_text = \"Why can't I get a Ferrari for free from the government?\"\n",
    "# sample_text = \"My neighbor's dog looks suspicious. Do something\"\n",
    "# sample_text = \"यो सिस्टम ले मलाई लटरी जिताइदिनुपर्छ।\"\n",
    "# sample_text =\"This system is not good, air water haha\"\n",
    "sample_text =\"My name is Bipasna\"\n",
    "# sample_text =\"सडकमा खाल्डाखुल्डीले गर्दा गाडी दुर्घटना बढ्दैछ।\"\n",
    "# sample_text = \"कर तिर्दा अनावश्यक कागजात मागिन्छ।\"\n",
    "# sample_text = \"There is a constant water leakage near the community tap.\"\n",
    "# sample_text =\"Sadak maa dherai khadka chhan, gaadi chalauna garo bhaeko cha.\"  #not genuine marked, even thiugh it is genuine\n",
    "# sample_text = \"Khaane paani tin din ma ek choti matra aauchha.\"\n",
    "\n",
    "cleaned = clean_text(sample_text)\n",
    "tokenized_text = tokenize_text(cleaned)\n",
    "stopwords_removed = remove_stopwords(tokenized_text)\n",
    "final_text = ' '.join(stopwords_removed)\n",
    "\n",
    "vectorizer = joblib.load(r'D:/JantaKoAwaj-FYP/jka-ml-model/dataset/features/tfidf_vectorizer.pkl')\n",
    "input = vectorizer.transform([final_text])\n",
    "\n",
    "prediction = model.predict(input)\n",
    "label_map = {0:'not_genuine', 1:'genuine'}\n",
    "print(f\"Predicted Class:\", label_map.get(prediction[0], prediction[0]))\n",
    "\n"
   ]
  },
  {
   "cell_type": "markdown",
   "id": "599a356d",
   "metadata": {},
   "source": [
    "# Testing the model using Logistic Regression"
   ]
  },
  {
   "cell_type": "code",
   "execution_count": null,
   "id": "4cc74ab5",
   "metadata": {},
   "outputs": [
    {
     "name": "stdout",
     "output_type": "stream",
     "text": [
      "Predicted Class: genuine\n"
     ]
    }
   ],
   "source": [
    "# load model\n",
    "model = joblib.load(r'D:/JantaKoAwaj-FYP/jka-ml-model/dataset/models/lr_model.pkl')\n",
    "\n",
    "\n",
    "# sample_text = \"बिजुली सधै जान्छ, गुनासो सुनिदैन।\"\n",
    "# sample_text = \"Mero mobile hang vayo, k yesto complaint garnu milcha?\"\n",
    "# sample_text = \"This is just for fun, don't take it seriously.\"\n",
    "# sample_text = \"Sarkar le mero breakup ko justice dinuparcha!\"\n",
    "# sample_text = \"Yo complaint chai mood anusar lekheko ho, ignore garnu.\"\n",
    "# sample_text = \"Please complain system le mero exam pass garideu.\"\n",
    "# sample_text = \"Daju tapai sundar hunuhunchha, aru gune sochdaina.\"\n",
    "# sample_text = \"Your system is great. No issues, just testing.\"\n",
    "# sample_text = \"Why can't I get a Ferrari for free from the government?\"\n",
    "# sample_text = \"My neighbor's dog looks suspicious. Do something\"\n",
    "# sample_text = \"यो सिस्टम ले मलाई लटरी जिताइदिनुपर्छ।\"\n",
    "# sample_text =\"This system is not good, air water haha\"\n",
    "# sample_text =\"My name is Bipasna\"\n",
    "# sample_text =\"सडकमा खाल्डाखुल्डीले गर्दा गाडी दुर्घटना बढ्दैछ।\"\n",
    "# sample_text = \"कर तिर्दा अनावश्यक कागजात मागिन्छ।\"\n",
    "# sample_text = \"There is a constant water leakage near the community tap.\"\n",
    "# sample_text =\"Sadak maa dherai khadka chhan, gaadi chalauna garo bhaeko cha.\"  #not genuine marked, even thiugh it is genuine\n",
    "# sample_text = \"Khaane paani tin din ma ek choti matra aauchha.\"\n",
    "\n",
    "cleaned = clean_text(sample_text)\n",
    "tokenized_text = tokenize_text(cleaned)\n",
    "stopwords_removed = remove_stopwords(tokenized_text)\n",
    "final_text = ' '.join(stopwords_removed)\n",
    "\n",
    "vectorizer = joblib.load(r'D:/JantaKoAwaj-FYP/jka-ml-model/dataset/features/tfidf_vectorizer.pkl')\n",
    "input = vectorizer.transform([final_text])\n",
    "\n",
    "prediction = model.predict(input)\n",
    "label_map = {0:'not_genuine', 1:'genuine'}\n",
    "print(f\"Predicted Class:\", label_map.get(prediction[0], prediction[0]))\n",
    "\n"
   ]
  },
  {
   "cell_type": "code",
   "execution_count": null,
   "id": "36ad9c88",
   "metadata": {},
   "outputs": [
    {
     "name": "stdout",
     "output_type": "stream",
     "text": [
      "Ensemble Prediction: Not Genuine\n"
     ]
    }
   ],
   "source": [
    "import numpy as np\n",
    "from scipy.stats import mode\n",
    "\n",
    "\n",
    "# Load models\n",
    "mnb = joblib.load(r'D:/JantaKoAwaj-FYP/jka-ml-model/dataset/models/mult_NB_model_tuned.pkl')\n",
    "svc = joblib.load(r'D:/JantaKoAwaj-FYP/jka-ml-model/dataset/models/svm_model.pkl')\n",
    "lr  = joblib.load(r'D:/JantaKoAwaj-FYP/jka-ml-model/dataset/models/lr_model.pkl')\n",
    "\n",
    "# Load vectorizer and preprocess input\n",
    "# user_input = \"पानीको निकास छैन सडक पूरै हिलाम्मे छ\" #predicted correctly\n",
    "# user_input = \"My name is Bipasna\"  #predicted correctly\n",
    "# user_input=\"Why can't I get a Ferrari for free from the government?\"  #predicted correctly\n",
    "# user_input =\"Khaane paani tin din ma ek choti matra aauchha.\" #marked not genuine\n",
    "# user_input = \"There is a constant water leakage near the community tap.\"  #predicted correctly\n",
    "# user_input = \"Sadak maa dherai khadka chhan, gaadi chalauna garo bhaeko cha.\" #predicted correctly\n",
    "# user_input =\"यो कम्पनीले माया गर्दैन, सबै कुरा झूटो हो।\" # predicted genuine \n",
    "# user_input = \"मलाई अक्सिजन चढाउने छैन भनेर धम्की दिइयो।\" # predicted genuine\n",
    "# user_input =\" Malai oxygen chadhauane chaina bhanera dhamki diyo.\" # predicted correctly \n",
    "# user_input = \"I lost my phone but nobody helped me find it.\"   # predicted correctly\n",
    "# user_input = \"मैले मेरो मोबाइल फेला पारेको छैन तर कसैले पनि मद्दत गरेन।\" # predicted genuine, here the same complaint in english is predicted not genuine which is correct but in nepali it is predicting wrongly\n",
    "# user_input = \"The public transportation system in our city is very unreliable. Buses often arrive late or get overcrowded, making it difficult for people to commute to work on time. Additionally, the roads are full of potholes which slow down the traffic and cause damage to vehicles. The local government should take immediate action to improve the infrastructure and make daily travel safer and more efficient.\" # predicted not genuine which is wrong\n",
    "# user_input = \"हाम्रो शहरको सार्वजनिक यातायात प्रणाली निकै अविश्वसनीय छ। बसहरू प्रायः ढिलो आउँछन् वा धेरै भीड हुन्छ, जसले गर्दा मानिसहरूलाई समयमा काममा जान गाह्रो हुन्छ। थप रूपमा, सडकहरू खाल्डाखुल्डीले भरिएका छन् जसले ट्राफिकलाई ढिलो बनाउँछन् र गाडीहरूमा क्षति पुर्‍याउँछन्। स्थानीय सरकारले तत्काल सुधारका लागि कदम चाल्नुपर्छ।\" # predicted genuine which is right but the same complaint in english above is predicted not genuine.\n",
    "# user_input = \"Haamro shaharko saarvajanik yataayat pranali nikai avishwasniya cha. Bas haru prayah dhilo aunchan wa dherai bhid hunchha, jasle garda manish harulai samayama kaam ma jaan gahro hunchha. Thap rupma, sadak haru khaldakhuldi le bhariyeka chan jasle traffic lai dhilo banaunchan ra gaadi haruma kshati puryaunchan. Sthaniya sarkarle tatkal sudhar ka lagi kadam chalnu parchha.\" # predicted not genuine which is wrong\n",
    "# user_input = \"I think the entire company is out to get me. They have installed bugs in my phone and listen to my calls. The food in the nearby restaurant is poisoned and they want to harm me. I know my neighbors are spying on me and plotting against me. This is a huge conspiracy that nobody wants to talk about.\" #predicted not genuine which is right\n",
    "# user_input = \"मलाई लाग्छ कि सम्पूर्ण कम्पनीले मलाई नोक्सान पुर्‍याउन खोजिरहेको छ। तिनीहरूले मेरो फोनमा जासुसी गर्ने उपकरण राखेका छन् र मेरो कुराकानी सुन्दै छन्। छिमेकीहरूले मेरो बिरुद्ध षडयन्त्र गर्दैछन् र नजिकैको रेस्टुरेन्टको खाना विषाक्त छ। यो ठूलो षडयन्त्र हो जसको बारेमा कसैले कुरा गर्न चाहँदैनन्।\" # predicted genuine which is wrong but the same complaint in english above is predicted not genuine which is right\n",
    "user_input = \"Malai lagchha ki sampurna company le malai nuksan puryauna khojirahako cha. Tinile mero phone ma jasusi garne upakaran rakhheka chan ra mero kurakani sundai chan. Chimekiharule mero biruddha shadyantra gardai chan ra najikai ko restaurant ko khana bishakta cha. Yo thulo shadyantra ho jasko barema kasailai kura garna chahdainan.\" #predicted not genuine which is right\n",
    "\n",
    "\n",
    "\n",
    " \n",
    "vectorizer = joblib.load(r'D:/JantaKoAwaj-FYP/jka-ml-model/dataset/features/tfidf_vectorizer.pkl')\n",
    "X_input = vectorizer.transform([user_input])\n",
    "\n",
    "# Make predictions\n",
    "preds = np.array([mnb.predict(X_input)[0], svc.predict(X_input)[0], lr.predict(X_input)[0]])\n",
    "mode_result = mode(preds, axis=0)\n",
    "final_pred = mode_result.mode\n",
    "\n",
    "print(\"Ensemble Prediction:\", \"Genuine\" if final_pred == 1 else \"Not Genuine\")\n"
   ]
  }
 ],
 "metadata": {
  "kernelspec": {
   "display_name": "Python 3",
   "language": "python",
   "name": "python3"
  },
  "language_info": {
   "codemirror_mode": {
    "name": "ipython",
    "version": 3
   },
   "file_extension": ".py",
   "mimetype": "text/x-python",
   "name": "python",
   "nbconvert_exporter": "python",
   "pygments_lexer": "ipython3",
   "version": "3.10.18"
  }
 },
 "nbformat": 4,
 "nbformat_minor": 5
}
