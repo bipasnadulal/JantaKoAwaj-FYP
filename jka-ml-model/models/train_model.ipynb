{
 "cells": [
  {
   "cell_type": "markdown",
   "id": "691ecd4f",
   "metadata": {},
   "source": [
    "### Data Splitting"
   ]
  },
  {
   "cell_type": "code",
   "execution_count": 29,
   "id": "e7d03e8f",
   "metadata": {},
   "outputs": [],
   "source": [
    "#importing\n",
    "import pandas as pd\n",
    "import scipy\n",
    "import joblib\n",
    "from sklearn.model_selection import train_test_split\n",
    "from scipy.sparse import load_npz"
   ]
  },
  {
   "cell_type": "code",
   "execution_count": 30,
   "id": "16b04c8f",
   "metadata": {},
   "outputs": [
    {
     "name": "stdout",
     "output_type": "stream",
     "text": [
      "Total number of samples: 9874\n",
      "Training set size: 7899\n",
      "Testing set size: 1975\n",
      "Number of features: 10000\n",
      "Class distribution in original dataset:\n",
      "labeled\n",
      "1          0.503848\n",
      "0          0.496152\n",
      "Name: proportion, dtype: float64\n",
      "Class distribution in training set:\n",
      "labeled\n",
      "1          0.503861\n",
      "0          0.496139\n",
      "Name: proportion, dtype: float64\n",
      "Class distribution in testing set:\n",
      "labeled\n",
      "1          0.503797\n",
      "0          0.496203\n",
      "Name: proportion, dtype: float64\n"
     ]
    }
   ],
   "source": [
    "# load the data\n",
    "# x= features, y= labels(target)\n",
    "x= load_npz(r'D:/JantaKoAwaj-FYP/jka-ml-model/dataset/features/tfidf_features.npz')\n",
    "y=pd.read_csv(r'D:/JantaKoAwaj-FYP/jka-ml-model/dataset/features/labeled_data.csv')\n",
    "\n",
    "# splitting the data into training and testing sets\n",
    "# test_size=0.2 , 20% of data for testing, 80% for training\n",
    "# random_state=42, ensures reproducibility\n",
    "# stratify=Y['label'], ensures that the proportion of 'genuine' and 'not_genuine' complaints is roughly the same in both training and testing sets.\n",
    "X_train, X_test, y_train, y_test = train_test_split(\n",
    "    x, y, test_size = 0.2, random_state=42, stratify=y\n",
    ")\n",
    "\n",
    "# data split information\n",
    "print(f\"Total number of samples: {x.shape[0]}\")\n",
    "print(f\"Training set size: {X_train.shape[0]}\")\n",
    "print(f\"Testing set size: {X_test.shape[0]}\")\n",
    "print(f\"Number of features: {X_train.shape[1]}\")\n",
    "\n",
    "print(\"Class distribution in original dataset:\")\n",
    "print(y.value_counts(normalize=True))\n",
    "print(\"Class distribution in training set:\")\n",
    "print(y_train.value_counts(normalize=True))\n",
    "print(\"Class distribution in testing set:\")\n",
    "print(y_test.value_counts(normalize=True))"
   ]
  },
  {
   "cell_type": "code",
   "execution_count": 31,
   "id": "e047e850",
   "metadata": {},
   "outputs": [
    {
     "name": "stdout",
     "output_type": "stream",
     "text": [
      "Split sets saved successfully!\n"
     ]
    }
   ],
   "source": [
    "# saving the split data\n",
    "scipy.sparse.save_npz(r'D:/JantaKoAwaj-FYP/jka-ml-model/dataset/models/X_train.npz', X_train)\n",
    "scipy.sparse.save_npz(r'D:/JantaKoAwaj-FYP/jka-ml-model/dataset/models/X_test.npz', X_test)\n",
    "\n",
    "joblib.dump(y_train, r'D:/JantaKoAwaj-FYP/jka-ml-model/dataset/models/y_train.pkl')\n",
    "joblib.dump(y_test, r'D:/JantaKoAwaj-FYP/jka-ml-model/dataset/models/y_test.pkl')\n",
    "\n",
    "print(\"Split sets saved successfully!\")"
   ]
  },
  {
   "cell_type": "code",
   "execution_count": null,
   "id": "4295c8e8",
   "metadata": {},
   "outputs": [],
   "source": [
    "pip install matplotlib"
   ]
  },
  {
   "cell_type": "code",
   "execution_count": null,
   "id": "3f472a9d",
   "metadata": {},
   "outputs": [],
   "source": [
    "pip install seaborn"
   ]
  },
  {
   "cell_type": "markdown",
   "id": "e6fafaac",
   "metadata": {},
   "source": [
    "### Training the model using Multinomial Naive Bayes"
   ]
  },
  {
   "cell_type": "code",
   "execution_count": 32,
   "id": "de4855f3",
   "metadata": {},
   "outputs": [],
   "source": [
    "import pandas as pd\n",
    "import matplotlib.pyplot as plt\n",
    "import seaborn as sns\n",
    "from sklearn.model_selection import GridSearchCV\n",
    "from sklearn.naive_bayes import MultinomialNB\n",
    "from sklearn.metrics import accuracy_score, confusion_matrix, classification_report"
   ]
  },
  {
   "cell_type": "code",
   "execution_count": 33,
   "id": "0f04a1b6",
   "metadata": {},
   "outputs": [
    {
     "name": "stdout",
     "output_type": "stream",
     "text": [
      "{'alpha': 1.0, 'class_prior': None, 'fit_prior': True, 'force_alpha': True}\n",
      "Model trained successfully.\n"
     ]
    },
    {
     "name": "stderr",
     "output_type": "stream",
     "text": [
      "d:\\jka-ml\\lib\\site-packages\\sklearn\\utils\\validation.py:1408: DataConversionWarning: A column-vector y was passed when a 1d array was expected. Please change the shape of y to (n_samples, ), for example using ravel().\n",
      "  y = column_or_1d(y, warn=True)\n"
     ]
    }
   ],
   "source": [
    "# instantiating Multinomial Naive Bayes\n",
    "mult_NB = MultinomialNB()\n",
    "print(mult_NB.get_params())\n",
    "\n",
    "mult_NB.fit(X_train, y_train)\n",
    "\n",
    "print(\"Model trained successfully.\")"
   ]
  },
  {
   "cell_type": "code",
   "execution_count": null,
   "id": "6436d551",
   "metadata": {},
   "outputs": [],
   "source": [
    "#predicting the model\n",
    "y_pred_mnb = mult_NB.predict(X_test)"
   ]
  },
  {
   "cell_type": "code",
   "execution_count": null,
   "id": "cabea134",
   "metadata": {},
   "outputs": [
    {
     "name": "stdout",
     "output_type": "stream",
     "text": [
      "Accuracy: 0.9843037974683544\n",
      "Classification Report:                precision    recall  f1-score   support\n",
      "\n",
      "           0       0.98      0.99      0.98       980\n",
      "           1       0.99      0.98      0.98       995\n",
      "\n",
      "    accuracy                           0.98      1975\n",
      "   macro avg       0.98      0.98      0.98      1975\n",
      "weighted avg       0.98      0.98      0.98      1975\n",
      "\n"
     ]
    },
    {
     "data": {
      "image/png": "[encoded data removed]",
      "text/plain": [
       "<Figure size 600x400 with 2 Axes>"
      ]
     },
     "metadata": {},
     "output_type": "display_data"
    }
   ],
   "source": [
    "# Evaluating the model\n",
    "# accuracy\n",
    "accuracy_mnb = accuracy_score(y_test, y_pred_mnb)\n",
    "print(f\"Accuracy:\", accuracy_mnb)\n",
    "\n",
    "classificationReport = classification_report(y_test, y_pred_mnb)\n",
    "print(f\"Classification Report: \", classificationReport)\n",
    "\n",
    "confusionMatrix = confusion_matrix(y_test, y_pred_mnb)\n",
    "plt.figure(figsize=(6,4))\n",
    "sns.heatmap(confusionMatrix, annot=True, fmt=\"d\", cmap=\"Blues\")\n",
    "plt.xlabel(\"Predicted Label\")\n",
    "plt.ylabel(\"True Label\")\n",
    "plt.title(\"Confusion Matrix\")\n",
    "plt.show()\n",
    "\n",
    "# print(confusionMatrix)"
   ]
  },
  {
   "cell_type": "markdown",
   "id": "c8cbc2eb",
   "metadata": {},
   "source": [
    "### Checking the model accuracy by tuning hyperparameter using GridSearch"
   ]
  },
  {
   "cell_type": "code",
   "execution_count": 36,
   "id": "3173cb02",
   "metadata": {},
   "outputs": [
    {
     "name": "stdout",
     "output_type": "stream",
     "text": [
      "Fitting 5 folds for each of 7 candidates, totalling 35 fits\n",
      "Best parameters found: {'alpha': 0.01}\n",
      "Best cross validation: 0.9944295780857937\n",
      "Accuracy: 0.9959493670886076\n",
      "Classification Report:                precision    recall  f1-score   support\n",
      "\n",
      "           0       1.00      0.99      1.00       980\n",
      "           1       0.99      1.00      1.00       995\n",
      "\n",
      "    accuracy                           1.00      1975\n",
      "   macro avg       1.00      1.00      1.00      1975\n",
      "weighted avg       1.00      1.00      1.00      1975\n",
      "\n"
     ]
    },
    {
     "name": "stderr",
     "output_type": "stream",
     "text": [
      "d:\\jka-ml\\lib\\site-packages\\sklearn\\utils\\validation.py:1408: DataConversionWarning: A column-vector y was passed when a 1d array was expected. Please change the shape of y to (n_samples, ), for example using ravel().\n",
      "  y = column_or_1d(y, warn=True)\n"
     ]
    },
    {
     "data": {
      "image/png": "[encoded data removed]",
      "text/plain": [
       "<Figure size 600x400 with 2 Axes>"
      ]
     },
     "metadata": {},
     "output_type": "display_data"
    },
    {
     "name": "stdout",
     "output_type": "stream",
     "text": [
      "[[972   8]\n",
      " [  0 995]]\n"
     ]
    }
   ],
   "source": [
    "parameters = {\n",
    "    'alpha':[\n",
    "        0.01, 0.05, 0.1, 0.5, 1.0, 5.0, 10.0\n",
    "    ]\n",
    "}\n",
    "\n",
    "\n",
    "# performing 5-Fold (K-Fold) cross validation (here the data is divided into 5 parts and in each part, eg: fold 1 is used for testing and remaining folds are used for training and so one. At last it average the results for final score)\n",
    "classifier = GridSearchCV(mult_NB, parameters, cv=5, scoring='accuracy', verbose=1, n_jobs=-1 ) #verbose = showing progess, n_jobs= using all gpu capacity for faster tuning\n",
    "classifier.fit(X_train, y_train)\n",
    "\n",
    "print(f\"Best parameters found: {classifier.best_params_}\")\n",
    "print(f\"Best cross validation: {classifier.best_score_}\")\n",
    "\n",
    "best_mnb_model = classifier.best_estimator_\n",
    "\n",
    "y_pred_tuned_mnb = best_mnb_model.predict(X_test)\n",
    "\n",
    "# Evaluation\n",
    "accuracy_mnb = accuracy_score(y_test, y_pred_tuned_mnb)\n",
    "print(f\"Accuracy:\", accuracy_mnb)\n",
    "\n",
    "classificationReport = classification_report(y_test, y_pred_tuned_mnb)\n",
    "print(f\"Classification Report: \", classificationReport)\n",
    "\n",
    "confusionMatrix = confusion_matrix(y_test, y_pred_tuned_mnb)\n",
    "plt.figure(figsize=(6,4))\n",
    "sns.heatmap(confusionMatrix, annot=True, fmt=\"d\", cmap=\"Blues\")\n",
    "plt.xlabel(\"Predicted Label\")\n",
    "plt.ylabel(\"True Label\")\n",
    "plt.title(\"Confusion Matrix\")\n",
    "plt.show()\n",
    "\n",
    "print(confusionMatrix)\n",
    "\n"
   ]
  },
  {
   "cell_type": "code",
   "execution_count": 37,
   "id": "cf99ff5c",
   "metadata": {},
   "outputs": [
    {
     "name": "stdout",
     "output_type": "stream",
     "text": [
      "Model saved successfully.\n"
     ]
    }
   ],
   "source": [
    "#saving the model\n",
    "joblib.dump(mult_NB, r'D:/JantaKoAwaj-FYP/jka-ml-model/dataset/models/mult_NB_model_tuned.pkl')\n",
    "\n",
    "print(\"Model saved successfully.\")"
   ]
  },
  {
   "cell_type": "code",
   "execution_count": null,
   "id": "6ff3f4db",
   "metadata": {},
   "outputs": [],
   "source": [
    "# The model has significantly improved its accuracy from 92% to 97% after tuning hyperparameter."
   ]
  },
  {
   "cell_type": "markdown",
   "id": "32e2165c",
   "metadata": {},
   "source": [
    "### Training model using SVM (Support Vector Machine)"
   ]
  },
  {
   "cell_type": "code",
   "execution_count": 44,
   "id": "fc1556f6",
   "metadata": {},
   "outputs": [
    {
     "name": "stdout",
     "output_type": "stream",
     "text": [
      "Total number of samples: 9874\n",
      "Training set size: 7899\n",
      "Testing set size: 1975\n",
      "Number of features: 10000\n"
     ]
    }
   ],
   "source": [
    "from sklearn.svm import LinearSVC\n",
    "from sklearn.metrics import confusion_matrix, accuracy_score, classification_report\n",
    "\n",
    "x= load_npz(r'D:/JantaKoAwaj-FYP/jka-ml-model/dataset/features/tfidf_features.npz')\n",
    "y=pd.read_csv(r'D:/JantaKoAwaj-FYP/jka-ml-model/dataset/features/labeled_data.csv')\n",
    "\n",
    "# splitting the data into training and testing sets\n",
    "# test_size=0.2 , 20% of data for testing, 80% for training\n",
    "# random_state=42, ensures reproducibility\n",
    "# stratify=Y['label'], ensures that the proportion of 'genuine' and 'not_genuine' complaints is roughly the same in both training and testing sets.\n",
    "X_train, X_test, y_train, y_test = train_test_split(\n",
    "    x, y, test_size = 0.2, random_state=42, stratify=y\n",
    ")\n",
    "\n",
    "# data split information\n",
    "print(f\"Total number of samples: {x.shape[0]}\")\n",
    "print(f\"Training set size: {X_train.shape[0]}\")\n",
    "print(f\"Testing set size: {X_test.shape[0]}\")\n",
    "print(f\"Number of features: {X_train.shape[1]}\")"
   ]
  },
  {
   "cell_type": "code",
   "execution_count": null,
   "id": "5dd2e86f",
   "metadata": {},
   "outputs": [
    {
     "name": "stdout",
     "output_type": "stream",
     "text": [
      "Model trained successfully.\n"
     ]
    },
    {
     "name": "stderr",
     "output_type": "stream",
     "text": [
      "d:\\jka-ml\\lib\\site-packages\\sklearn\\utils\\validation.py:1408: DataConversionWarning: A column-vector y was passed when a 1d array was expected. Please change the shape of y to (n_samples, ), for example using ravel().\n",
      "  y = column_or_1d(y, warn=True)\n"
     ]
    }
   ],
   "source": [
    "from sklearn.svm import LinearSVC\n",
    "linear_svm_model = LinearSVC(class_weight='balanced', max_iter=20000)\n",
    "linear_svm_model.fit(X_train, y_train)\n",
    "print(\"Model trained successfully.\")"
   ]
  },
  {
   "cell_type": "code",
   "execution_count": 46,
   "id": "04fa35c0",
   "metadata": {},
   "outputs": [
    {
     "name": "stdout",
     "output_type": "stream",
     "text": [
      "Accuracy: 0.9964556962025316\n",
      "Classification Report:\n",
      "               precision    recall  f1-score   support\n",
      "\n",
      "           0       1.00      0.99      1.00       980\n",
      "           1       0.99      1.00      1.00       995\n",
      "\n",
      "    accuracy                           1.00      1975\n",
      "   macro avg       1.00      1.00      1.00      1975\n",
      "weighted avg       1.00      1.00      1.00      1975\n",
      "\n",
      "Confusion Matrix:\n",
      " [[973   7]\n",
      " [  0 995]]\n"
     ]
    }
   ],
   "source": [
    "y_pred_linSVC = linear_svm_model.predict(X_test)\n",
    "print(\"Accuracy:\", accuracy_score(y_test, y_pred_linSVC))\n",
    "print(\"Classification Report:\\n\", classification_report(y_test, y_pred_linSVC))\n",
    "print(\"Confusion Matrix:\\n\", confusion_matrix(y_test, y_pred_linSVC))\n"
   ]
  },
  {
   "cell_type": "code",
   "execution_count": 47,
   "id": "ee91eb50",
   "metadata": {},
   "outputs": [
    {
     "name": "stdout",
     "output_type": "stream",
     "text": [
      "Model saved successfully.\n"
     ]
    }
   ],
   "source": [
    "\n",
    "joblib.dump(linear_svm_model, r'D:/JantaKoAwaj-FYP/jka-ml-model/dataset/models/svm_model.pkl')\n",
    "print(\"Model saved successfully.\")"
   ]
  },
  {
   "cell_type": "markdown",
   "id": "d99c60d5",
   "metadata": {},
   "source": [
    "### SVM model trained by tuning hyperparameter"
   ]
  },
  {
   "cell_type": "code",
   "execution_count": 38,
   "id": "b1047179",
   "metadata": {},
   "outputs": [
    {
     "name": "stdout",
     "output_type": "stream",
     "text": [
      "\n",
      "--- Hyperparameter Tuning for LinearSVC ---\n",
      "Fitting 5 folds for each of 28 candidates, totalling 140 fits\n",
      "\n",
      "Best parameters found for LinearSVC: {'C': 1.0, 'class_weight': 'balanced', 'max_iter': 10000}\n",
      "Best cross-validation score (accuracy) for LinearSVC: 0.9970\n",
      "\n",
      "--- Tuned LinearSVC Model Evaluation on Test Set ---\n",
      "Accuracy: 0.9965\n",
      "\n",
      "Classification Report (Tuned LinearSVC):\n",
      "              precision    recall  f1-score   support\n",
      "\n",
      "           0       1.00      0.99      1.00       980\n",
      "           1       0.99      1.00      1.00       995\n",
      "\n",
      "    accuracy                           1.00      1975\n",
      "   macro avg       1.00      1.00      1.00      1975\n",
      "weighted avg       1.00      1.00      1.00      1975\n",
      "\n",
      "\n",
      "Confusion Matrix (Tuned LinearSVC):\n",
      "[[973   7]\n",
      " [  0 995]]\n"
     ]
    },
    {
     "name": "stderr",
     "output_type": "stream",
     "text": [
      "d:\\jka-ml\\lib\\site-packages\\sklearn\\utils\\validation.py:1408: DataConversionWarning: A column-vector y was passed when a 1d array was expected. Please change the shape of y to (n_samples, ), for example using ravel().\n",
      "  y = column_or_1d(y, warn=True)\n"
     ]
    },
    {
     "data": {
      "image/png": "[encoded data removed]",
      "text/plain": [
       "<Figure size 600x500 with 1 Axes>"
      ]
     },
     "metadata": {},
     "output_type": "display_data"
    }
   ],
   "source": [
    "from sklearn.svm import LinearSVC # Import LinearSVC\n",
    "from sklearn.model_selection import GridSearchCV\n",
    "from sklearn.metrics import classification_report, accuracy_score, confusion_matrix\n",
    "from scipy.sparse import load_npz\n",
    "from sklearn.model_selection import train_test_split\n",
    "import pandas as pd\n",
    "import matplotlib.pyplot as plt\n",
    "import seaborn as sns\n",
    "\n",
    "# Assuming x, y, X_train, X_test, y_train, y_test are loaded/defined from your previous steps\n",
    "x= load_npz(r'D:/JantaKoAwaj-FYP/jka-ml-model/dataset/features/tfidf_features.npz')\n",
    "y=pd.read_csv(r'D:/JantaKoAwaj-FYP/jka-ml-model/dataset/features/labeled_data.csv')\n",
    "\n",
    "# splitting the data into training and testing sets\n",
    "# test_size=0.2 , 20% of data for testing, 80% for training\n",
    "# random_state=42, ensures reproducibility\n",
    "# stratify=Y['label'], ensures that the proportion of 'genuine' and 'not_genuine' complaints is roughly the same in both training and testing sets.\n",
    "X_train, X_test, y_train, y_test = train_test_split(\n",
    "    x, y, test_size = 0.2, random_state=42, stratify=y\n",
    ")\n",
    "\n",
    "print(\"\\n--- Hyperparameter Tuning for LinearSVC ---\")\n",
    "\n",
    "# Define the parameter grid for LinearSVC\n",
    "param_grid_linear_svc = {\n",
    "    'C': [0.1, 0.5, 1.0, 5.0, 10.0, 50.0, 100.0], # Explore a wider range of C\n",
    "    'class_weight': ['balanced', None], # Keep class_weight as an option to tune\n",
    "    'max_iter': [10000, 20000] # Ensure sufficient iterations\n",
    "}\n",
    "\n",
    "# Create a LinearSVC model instance\n",
    "linear_svc = LinearSVC(random_state=42) # Set random_state for reproducibility\n",
    "\n",
    "# Initialize GridSearchCV\n",
    "grid_search_linear_svc = GridSearchCV(\n",
    "    estimator=linear_svc,\n",
    "    param_grid=param_grid_linear_svc,\n",
    "    cv=5,                 # 5-fold cross-validation\n",
    "    scoring='accuracy',   # Can try 'f1_weighted' if you want a balance of both classes F1\n",
    "    verbose=1,            # Show progress\n",
    "    n_jobs=-1             # Use all available CPU cores\n",
    ")\n",
    "\n",
    "# Fit GridSearchCV on the training data\n",
    "# Ensure y_train is 1D if you were getting warnings earlier\n",
    "# y_train_linSVC_tuned = y_train.values.ravel() if hasattr(y_train, 'values') else y_train\n",
    "grid_search_linear_svc.fit(X_train, y_train)\n",
    "\n",
    "# Get the best parameters and best score\n",
    "print(f\"\\nBest parameters found for LinearSVC: {grid_search_linear_svc.best_params_}\")\n",
    "print(f\"Best cross-validation score (accuracy) for LinearSVC: {grid_search_linear_svc.best_score_:.4f}\")\n",
    "\n",
    "# Get the best estimator\n",
    "best_linear_svc_model = grid_search_linear_svc.best_estimator_\n",
    "\n",
    "# Make predictions on the test set\n",
    "y_pred_tuned_linear_svc = best_linear_svc_model.predict(X_test)\n",
    "\n",
    "# Evaluate the performance of the tuned LinearSVC model\n",
    "print(\"\\n--- Tuned LinearSVC Model Evaluation on Test Set ---\")\n",
    "\n",
    "accuracy_tuned_linear_svc = accuracy_score(y_test, y_pred_tuned_linear_svc)\n",
    "print(f\"Accuracy: {accuracy_tuned_linear_svc:.4f}\")\n",
    "\n",
    "print(\"\\nClassification Report (Tuned LinearSVC):\")\n",
    "print(classification_report(y_test, y_pred_tuned_linear_svc))\n",
    "\n",
    "cm_tuned_linear_svc = confusion_matrix(y_test, y_pred_tuned_linear_svc)\n",
    "print(\"\\nConfusion Matrix (Tuned LinearSVC):\")\n",
    "print(cm_tuned_linear_svc)\n",
    "\n",
    "# Visualizing the Tuned Confusion Matrix\n",
    "plt.figure(figsize=(6, 5))\n",
    "sns.heatmap(cm_tuned_linear_svc, annot=True, fmt='d', cmap='Blues', cbar=False,\n",
    "            xticklabels=best_linear_svc_model.classes_, yticklabels=best_linear_svc_model.classes_)\n",
    "plt.xlabel('Predicted Label')\n",
    "plt.ylabel('True Label')\n",
    "plt.title('Confusion Matrix: Tuned LinearSVC')\n",
    "plt.show()"
   ]
  },
  {
   "cell_type": "markdown",
   "id": "5b1fed3c",
   "metadata": {},
   "source": [
    "### Using Logistic regression"
   ]
  },
  {
   "cell_type": "code",
   "execution_count": 41,
   "id": "15fd5cb7",
   "metadata": {},
   "outputs": [
    {
     "name": "stdout",
     "output_type": "stream",
     "text": [
      "\n",
      "--- Training Logistic Regression Model ---\n",
      "Starting Logistic Regression training...\n",
      "Logistic Regression model trained successfully!\n",
      "\n",
      "--- Logistic Regression Model Evaluation on Test Set  ---\n",
      "Accuracy: 0.9949\n",
      "\n",
      "Classification Report (Default Logistic Regression):\n",
      "              precision    recall  f1-score   support\n",
      "\n",
      "           0       0.99      0.99      0.99       980\n",
      "           1       0.99      0.99      0.99       995\n",
      "\n",
      "    accuracy                           0.99      1975\n",
      "   macro avg       0.99      0.99      0.99      1975\n",
      "weighted avg       0.99      0.99      0.99      1975\n",
      "\n",
      "\n",
      "Confusion Matrix (Default Logistic Regression):\n",
      "[[975   5]\n",
      " [  5 990]]\n"
     ]
    },
    {
     "name": "stderr",
     "output_type": "stream",
     "text": [
      "d:\\jka-ml\\lib\\site-packages\\sklearn\\utils\\validation.py:1408: DataConversionWarning: A column-vector y was passed when a 1d array was expected. Please change the shape of y to (n_samples, ), for example using ravel().\n",
      "  y = column_or_1d(y, warn=True)\n"
     ]
    },
    {
     "data": {
      "image/png": "[encoded data removed]",
      "text/plain": [
       "<Figure size 600x500 with 1 Axes>"
      ]
     },
     "metadata": {},
     "output_type": "display_data"
    },
    {
     "name": "stdout",
     "output_type": "stream",
     "text": [
      "Model saved successfully.\n"
     ]
    }
   ],
   "source": [
    "from sklearn.linear_model import LogisticRegression\n",
    "from sklearn.metrics import classification_report, accuracy_score, confusion_matrix\n",
    "import matplotlib.pyplot as plt\n",
    "import seaborn as sns\n",
    "from scipy.sparse import load_npz\n",
    "from sklearn.model_selection import train_test_split\n",
    "import pandas as pd\n",
    "\n",
    "\n",
    "# load features and labeled data\n",
    "x = load_npz(r'D:/JantaKoAwaj-FYP/jka-ml-model/dataset/features/tfidf_features.npz')\n",
    "y = pd.read_csv(r'D:/JantaKoAwaj-FYP/jka-ml-model/dataset/features/labeled_data.csv')\n",
    "\n",
    "X_train, X_test, y_train, y_test = train_test_split(\n",
    "    x, y, test_size=0.2, random_state=42, stratify=y\n",
    ")\n",
    "\n",
    "\n",
    "\n",
    "print(\"\\n--- Training Logistic Regression Model ---\")\n",
    "\n",
    "# 1. Instantiating the LogisticRegression model\n",
    "# class_weight='balanced': Addresses slight class imbalance\n",
    "# max_iter=10000: Ensure convergence for large datasets/features\n",
    "# random_state=42: For reproducibility\n",
    "# solver='liblinear': A good default solver for smaller datasets with L1/L2 regularization.\n",
    "#                     'saga' or 'lbfgs' are also common for larger data.\n",
    "lr_model = LogisticRegression(class_weight='balanced', max_iter=10000, random_state=42, solver='liblinear')\n",
    "\n",
    "# 2. Training the model using the training data\n",
    "print(\"Starting Logistic Regression training...\")\n",
    "lr_model.fit(X_train, y_train)\n",
    "\n",
    "print(\"Logistic Regression model trained successfully!\")\n",
    "\n",
    "# 3. Making predictions on the test set\n",
    "y_pred_lr = lr_model.predict(X_test)\n",
    "\n",
    "# 4. Evaluating the model's performance\n",
    "print(\"\\n--- Logistic Regression Model Evaluation on Test Set  ---\")\n",
    "\n",
    "# Accuracy\n",
    "accuracy_lr = accuracy_score(y_test, y_pred_lr)\n",
    "print(f\"Accuracy: {accuracy_lr:.4f}\")\n",
    "\n",
    "# Classification Report\n",
    "print(\"\\nClassification Report (Default Logistic Regression):\")\n",
    "print(classification_report(y_test, y_pred_lr))\n",
    "\n",
    "# Confusion Matrix\n",
    "cm_lr = confusion_matrix(y_test, y_pred_lr)\n",
    "print(\"\\nConfusion Matrix (Default Logistic Regression):\")\n",
    "print(cm_lr)\n",
    "\n",
    "# Visualizing the Confusion Matrix\n",
    "plt.figure(figsize=(6, 5))\n",
    "sns.heatmap(cm_lr, annot=True, fmt='d', cmap='Blues', cbar=False,\n",
    "            xticklabels=lr_model.classes_, yticklabels=lr_model.classes_)\n",
    "plt.xlabel('Predicted Label')\n",
    "plt.ylabel('True Label')\n",
    "plt.title('Confusion Matrix: Default Logistic Regression')\n",
    "plt.show()\n",
    "\n",
    "\n",
    "# saving the model\n",
    "joblib.dump(lr_model, r'D:/JantaKoAwaj-FYP/jka-ml-model/dataset/models/lr_model.pkl')\n",
    "print(\"Model saved successfully.\")\n"
   ]
  },
  {
   "cell_type": "markdown",
   "id": "14ee496c",
   "metadata": {},
   "source": [
    "# combine predictions from multiple models to evaluate the performance"
   ]
  },
  {
   "cell_type": "code",
   "execution_count": 42,
   "id": "95bb98e2",
   "metadata": {},
   "outputs": [],
   "source": [
    "import numpy as np\n",
    "from scipy.stats import mode\n",
    "\n",
    "# Stack predictions (shape will be: [3, n_samples])\n",
    "predictions = np.vstack([y_pred_tuned_mnb, y_pred_linSVC, y_pred_lr])\n",
    "\n",
    "# Apply majority vote across the models for each test sample\n",
    "y_pred_ensemble, _ = mode(predictions, axis=0)  # returns (mode, count)\n",
    "\n",
    "# Flatten the result\n",
    "y_pred_ensemble = y_pred_ensemble.flatten()\n"
   ]
  },
  {
   "cell_type": "code",
   "execution_count": 43,
   "id": "337878a3",
   "metadata": {},
   "outputs": [
    {
     "name": "stdout",
     "output_type": "stream",
     "text": [
      "Accuracy: 0.9974683544303797\n",
      "Classification Report:\n",
      "               precision    recall  f1-score   support\n",
      "\n",
      "           0       1.00      0.99      1.00       980\n",
      "           1       0.99      1.00      1.00       995\n",
      "\n",
      "    accuracy                           1.00      1975\n",
      "   macro avg       1.00      1.00      1.00      1975\n",
      "weighted avg       1.00      1.00      1.00      1975\n",
      "\n",
      "Confusion Matrix:\n",
      " [[975   5]\n",
      " [  0 995]]\n"
     ]
    }
   ],
   "source": [
    "from sklearn.metrics import classification_report, accuracy_score, confusion_matrix\n",
    "\n",
    "print(\"Accuracy:\", accuracy_score(y_test, y_pred_ensemble))\n",
    "print(\"Classification Report:\\n\", classification_report(y_test, y_pred_ensemble))\n",
    "print(\"Confusion Matrix:\\n\", confusion_matrix(y_test, y_pred_ensemble))\n"
   ]
  }
 ],
 "metadata": {
  "kernelspec": {
   "display_name": "Python 3",
   "language": "python",
   "name": "python3"
  },
  "language_info": {
   "codemirror_mode": {
    "name": "ipython",
    "version": 3
   },
   "file_extension": ".py",
   "mimetype": "text/x-python",
   "name": "python",
   "nbconvert_exporter": "python",
   "pygments_lexer": "ipython3",
   "version": "3.10.18"
  }
 },
 "nbformat": 4,
 "nbformat_minor": 5
}
