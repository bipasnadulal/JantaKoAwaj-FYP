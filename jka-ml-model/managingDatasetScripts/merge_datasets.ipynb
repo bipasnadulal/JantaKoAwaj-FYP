{
 "cells": [
  {
   "cell_type": "code",
   "execution_count": 2,
   "id": "21fadbc3",
   "metadata": {},
   "outputs": [],
   "source": [
    "import pandas as pd\n",
    "import os"
   ]
  },
  {
   "cell_type": "markdown",
   "id": "a10949e4",
   "metadata": {},
   "source": [
    "### This script merges multiple CSV files from a specified folder into a single CSV file."
   ]
  },
  {
   "cell_type": "code",
   "execution_count": null,
   "id": "0dcafc04",
   "metadata": {},
   "outputs": [
    {
     "name": "stdout",
     "output_type": "stream",
     "text": [
      "Merged successfully into D:/JantaKoAwaj-FYP/jka-ml-model/dataset\\final_complaints_dataset.csv\n"
     ]
    }
   ],
   "source": [
    "folderPath = r\"D:/JantaKoAwaj-FYP/jka-ml-model/data\"\n",
    "outputFolder = r\"D:/JantaKoAwaj-FYP/jka-ml-model/dataset\"\n",
    "outputFilePath = os.path.join(outputFolder, 'final_complaints_dataset.csv')\n",
    "\n",
    "# checking if the folder exists\n",
    "os.makedirs(outputFolder, exist_ok=True)\n",
    "\n",
    "allData = []\n",
    "for filename in os.listdir(folderPath):\n",
    "    if filename.endswith('.csv'):\n",
    "        file_path = os.path.join(folderPath, filename)\n",
    "        \n",
    "        # Read CSV file\n",
    "        df = pd.read_csv(file_path)\n",
    "        \n",
    "        # Extract category from filename\n",
    "        # Assuming the filename format is 'category_name.csv'\n",
    "        # Replace underscores with spaces and capitalize words\n",
    "        category = filename.replace('.csv', '').replace('_', ' ').title()\n",
    "        \n",
    "        # Add category column\n",
    "        df['Category'] = category\n",
    "        \n",
    "        # Add default label as 'genuine'\n",
    "        df['Label'] = 'genuine'\n",
    "        \n",
    "        # Append to list\n",
    "        allData.append(df)\n",
    "\n",
    "# Combine all DataFrames and save\n",
    "if allData:\n",
    "    merged_df = pd.concat(allData, ignore_index=True)\n",
    "    merged_df.to_csv(outputFilePath, index=False, encoding='utf-8-sig')\n",
    "    print(f\"Merged successfully into {outputFilePath}\")\n",
    "else:\n",
    "    print(\"No data to merge. Please check your input files.\")\n"
   ]
  },
  {
   "cell_type": "markdown",
   "id": "a079e588",
   "metadata": {},
   "source": [
    "#### merging genuine and not genuine (spam) complaints into a single file"
   ]
  },
  {
   "cell_type": "code",
   "execution_count": 3,
   "id": "5383b9d9",
   "metadata": {},
   "outputs": [
    {
     "name": "stdout",
     "output_type": "stream",
     "text": [
      "Balanced dataset after merging spam and genuine complaints is save successfully!\n"
     ]
    }
   ],
   "source": [
    "outputFolder = r\"D:/JantaKoAwaj-FYP/jka-ml-model/dataset\"\n",
    "outputFilePath = os.path.join(outputFolder, \"final_balanced_dataset.csv\")\n",
    "# reading both datasets\n",
    "df_genuine = pd.read_csv(r'D:/JantaKoAwaj-FYP/jka-ml-model/dataset/normalized_dataset.csv', encoding='utf-8-sig')\n",
    "df_spam = pd.read_csv(r'D:/JantaKoAwaj-FYP/jka-ml-model/data/spam_complaints.csv', encoding='utf-8-sig')\n",
    "\n",
    "# sampling random 5000 samples from the genuine dataset\n",
    "df_genuine_sampled = df_genuine.sample(n=5000, random_state=42)\n",
    "# print(f\"Sampled {len(df_genuine_sampled)} genuine complaints.\")\n",
    "\n",
    "# droping SNo.\n",
    "df_genuine_sampled = df_genuine_sampled.drop(columns=['SNo'], errors='ignore')\n",
    "df_spam = df_spam.drop(columns=['SNo'], errors='ignore')\n",
    "\n",
    "#merging both data into single final dataset\n",
    "final_df = pd.concat([df_genuine_sampled, df_spam], ignore_index=True)\n",
    "\n",
    "# shuffling \n",
    "final_df = final_df.sample(frac = 1, random_state=42).reset_index(drop=True)\n",
    "\n",
    "#add new Sno.\n",
    "final_df.insert(0, \"SNo\", range(1, len(final_df) +1))\n",
    "\n",
    "\n",
    "# saving the final dataset\n",
    "final_df.to_csv(outputFilePath, index=False, encoding=\"utf-8-sig\")\n",
    "\n",
    "print(\"Balanced dataset after merging spam and genuine complaints is save successfully!\")\n"
   ]
  }
 ],
 "metadata": {
  "kernelspec": {
   "display_name": "Python 3",
   "language": "python",
   "name": "python3"
  },
  "language_info": {
   "codemirror_mode": {
    "name": "ipython",
    "version": 3
   },
   "file_extension": ".py",
   "mimetype": "text/x-python",
   "name": "python",
   "nbconvert_exporter": "python",
   "pygments_lexer": "ipython3",
   "version": "3.10.18"
  }
 },
 "nbformat": 4,
 "nbformat_minor": 5
}
